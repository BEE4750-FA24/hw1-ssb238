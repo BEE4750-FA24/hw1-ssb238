{
  "cells": [
    {
      "cell_type": "markdown",
      "id": "9097e2ab-6249-4b31-9a2f-00089c083b72",
      "metadata": {},
      "source": [
        "# BEE 4750 Homework 1: Introduction to Using Julia\n",
        "\n",
        "**Sarah Bae**\n",
        "\n",
        "**ssb238**\n",
        "\n",
        "> **Due Date**\n",
        ">\n",
        "> Thursday, 9/5/24, 9:00pm\n",
        "\n",
        "## Overview\n",
        "\n",
        "### Instructions\n",
        "\n",
        "-   Problem 1 consist of a series of code snippets for you to interpret\n",
        "    and debug. You will be asked to identify relevant error(s) and fix\n",
        "    the code.\n",
        "-   Problem 2 gives you some code that works as intended; your goal is\n",
        "    to identify the code’s purpose by following its logic.\n",
        "-   Problem 3 asks you to write code to generate a random vector and\n",
        "    subtract off its mean, using a Julia syntax called broadcasting.\n",
        "-   Problem 4 asks you to convert a verbal description of a wastewater\n",
        "    treatment system into a Julia function, and then to use that\n",
        "    function to explore the impact of different wastewater allocation\n",
        "    strategies.\n",
        "-   Problem 5 (5750 only) asks you to use more advanced Julia\n",
        "    techniques.\n",
        "\n",
        "### Load Environment\n",
        "\n",
        "The following code loads the environment and makes sure all needed\n",
        "packages are installed. This should be at the start of most Julia\n",
        "scripts."
      ]
    },
    {
      "cell_type": "code",
      "execution_count": 1,
      "id": "2",
      "metadata": {},
      "outputs": [
        {
          "name": "stderr",
          "output_type": "stream",
          "text": [
            "\u001b[32m\u001b[1m  Activating\u001b[22m\u001b[39m project at `~/BEE 4750/hw1-ssb238`\n",
            "\u001b[32m\u001b[1m   Installed\u001b[22m\u001b[39m EarCut_jll ────────────────── v2.2.4+0\n",
            "\u001b[32m\u001b[1m   Installed\u001b[22m\u001b[39m ArnoldiMethod ─────────────── v0.4.0\n",
            "\u001b[32m\u001b[1m   Installed\u001b[22m\u001b[39m NetworkLayout ─────────────── v0.4.6\n",
            "\u001b[32m\u001b[1m   Installed\u001b[22m\u001b[39m OffsetArrays ──────────────── v1.14.0\n",
            "\u001b[32m\u001b[1m   Installed\u001b[22m\u001b[39m GR_jll ────────────────────── v0.73.5+0\n",
            "\u001b[32m\u001b[1m   Installed\u001b[22m\u001b[39m ConcurrentUtilities ───────── v2.4.1\n",
            "\u001b[32m\u001b[1m   Installed\u001b[22m\u001b[39m StaticArrays ──────────────── v1.9.4\n",
            "\u001b[32m\u001b[1m   Installed\u001b[22m\u001b[39m StaticArraysCore ──────────── v1.4.2\n",
            "\u001b[32m\u001b[1m   Installed\u001b[22m\u001b[39m IJulia ────────────────────── v1.24.2\n",
            "\u001b[32m\u001b[1m   Installed\u001b[22m\u001b[39m Ratios ────────────────────── v0.4.5\n",
            "\u001b[32m\u001b[1m   Installed\u001b[22m\u001b[39m TranscodingStreams ────────── v0.10.9\n",
            "\u001b[32m\u001b[1m   Installed\u001b[22m\u001b[39m GLFW_jll ──────────────────── v3.3.9+0\n",
            "\u001b[32m\u001b[1m   Installed\u001b[22m\u001b[39m GraphRecipes ──────────────── v0.5.13\n",
            "\u001b[32m\u001b[1m   Installed\u001b[22m\u001b[39m CodecZlib ─────────────────── v0.7.4\n",
            "\u001b[32m\u001b[1m   Installed\u001b[22m\u001b[39m Graphs ────────────────────── v1.11.0\n",
            "\u001b[32m\u001b[1m   Installed\u001b[22m\u001b[39m Xorg_libxcb_jll ───────────── v1.15.0+0\n",
            "\u001b[32m\u001b[1m   Installed\u001b[22m\u001b[39m GeometryTypes ─────────────── v0.8.5\n",
            "\u001b[32m\u001b[1m   Installed\u001b[22m\u001b[39m TableTraits ───────────────── v1.0.1\n",
            "\u001b[32m\u001b[1m   Installed\u001b[22m\u001b[39m Plots ─────────────────────── v1.40.4\n",
            "\u001b[32m\u001b[1m   Installed\u001b[22m\u001b[39m Inflate ───────────────────── v0.1.5\n",
            "\u001b[32m\u001b[1m   Installed\u001b[22m\u001b[39m Conda ─────────────────────── v1.10.0\n",
            "\u001b[32m\u001b[1m   Installed\u001b[22m\u001b[39m GR ────────────────────────── v0.73.5\n",
            "\u001b[32m\u001b[1m   Installed\u001b[22m\u001b[39m ZMQ ───────────────────────── v1.2.5\n",
            "\u001b[32m\u001b[1m   Installed\u001b[22m\u001b[39m Extents ───────────────────── v0.1.2\n",
            "\u001b[32m\u001b[1m   Installed\u001b[22m\u001b[39m DataValueInterfaces ───────── v1.0.0\n",
            "\u001b[32m\u001b[1m   Installed\u001b[22m\u001b[39m AbstractTrees ─────────────── v0.4.5\n",
            "\u001b[32m\u001b[1m   Installed\u001b[22m\u001b[39m ConstructionBase ──────────── v1.5.5\n",
            "\u001b[32m\u001b[1m   Installed\u001b[22m\u001b[39m SimpleTraits ──────────────── v0.9.4\n",
            "\u001b[32m\u001b[1m   Installed\u001b[22m\u001b[39m Adapt ─────────────────────── v4.0.4\n",
            "\u001b[32m\u001b[1m   Installed\u001b[22m\u001b[39m XSLT_jll ──────────────────── v1.1.34+0\n",
            "\u001b[32m\u001b[1m   Installed\u001b[22m\u001b[39m ChainRulesCore ────────────── v1.23.0\n",
            "\u001b[32m\u001b[1m   Installed\u001b[22m\u001b[39m Interpolations ────────────── v0.15.1\n",
            "\u001b[32m\u001b[1m   Installed\u001b[22m\u001b[39m LogExpFunctions ───────────── v0.3.27\n",
            "\u001b[32m\u001b[1m   Installed\u001b[22m\u001b[39m XML2_jll ──────────────────── v2.12.7+0\n",
            "\u001b[32m\u001b[1m   Installed\u001b[22m\u001b[39m Latexify ──────────────────── v0.16.3\n",
            "\u001b[32m\u001b[1m   Installed\u001b[22m\u001b[39m BitFlags ──────────────────── v0.1.8\n",
            "\u001b[32m\u001b[1m   Installed\u001b[22m\u001b[39m GeometryBasics ────────────── v0.4.11\n",
            "\u001b[32m\u001b[1m   Installed\u001b[22m\u001b[39m IteratorInterfaceExtensions ─ v1.0.0\n",
            "\u001b[32m\u001b[1m   Installed\u001b[22m\u001b[39m Tables ────────────────────── v1.11.1\n",
            "\u001b[32m\u001b[1m   Installed\u001b[22m\u001b[39m IterTools ─────────────────── v1.10.0\n",
            "\u001b[32m\u001b[1m   Installed\u001b[22m\u001b[39m OpenSSL_jll ───────────────── v3.0.13+1\n",
            "\u001b[32m\u001b[1m   Installed\u001b[22m\u001b[39m StructArrays ──────────────── v0.6.18\n",
            "\u001b[32m\u001b[1m   Installed\u001b[22m\u001b[39m AxisAlgorithms ────────────── v1.1.0\n",
            "\u001b[32m\u001b[1m   Installed\u001b[22m\u001b[39m WoodburyMatrices ──────────── v1.0.0\n",
            "\u001b[32m\u001b[1m   Installed\u001b[22m\u001b[39m Qt6Base_jll ───────────────── v6.5.3+1\n",
            "\u001b[32m\u001b[1m   Installed\u001b[22m\u001b[39m GeoInterface ──────────────── v1.3.4\n",
            "\u001b[32m\u001b[1m   Installed\u001b[22m\u001b[39m UnitfulLatexify ───────────── v1.6.3\n",
            "\u001b[32m\u001b[1m    Building\u001b[22m\u001b[39m Conda ─→ `~/.julia/scratchspaces/44cfe95a-1eb2-52ea-b672-e2afdf69b78f/51cab8e982c5b598eea9c8ceaced4b58d9dd37c9/build.log`\n",
            "\u001b[32m\u001b[1m    Building\u001b[22m\u001b[39m IJulia → `~/.julia/scratchspaces/44cfe95a-1eb2-52ea-b672-e2afdf69b78f/47ac8cc196b81001a711f4b2c12c97372338f00c/build.log`\n",
            "\u001b[32m\u001b[1mPrecompiling\u001b[22m\u001b[39m project...\n",
            "\u001b[32m  ✓ \u001b[39m\u001b[90mIteratorInterfaceExtensions\u001b[39m\n",
            "\u001b[32m  ✓ \u001b[39m\u001b[90mConcurrentUtilities\u001b[39m\n",
            "\u001b[32m  ✓ \u001b[39m\u001b[90mIterTools\u001b[39m\n",
            "\u001b[32m  ✓ \u001b[39m\u001b[90mOffsetArrays\u001b[39m\n",
            "\u001b[32m  ✓ \u001b[39m\u001b[90mDataValueInterfaces\u001b[39m\n",
            "\u001b[32m  ✓ \u001b[39m\u001b[90mAbstractTrees\u001b[39m\n",
            "\u001b[32m  ✓ \u001b[39m\u001b[90mExtents\u001b[39m\n",
            "\u001b[32m  ✓ \u001b[39m\u001b[90mTranscodingStreams\u001b[39m\n",
            "\u001b[32m  ✓ \u001b[39m\u001b[90mRatios\u001b[39m\n",
            "\u001b[32m  ✓ \u001b[39m\u001b[90mChainRulesCore\u001b[39m\n",
            "\u001b[32m  ✓ \u001b[39m\u001b[90mInflate\u001b[39m\n",
            "\u001b[32m  ✓ \u001b[39m\u001b[90mConstructionBase\u001b[39m\n",
            "\u001b[32m  ✓ \u001b[39m\u001b[90mLatexify\u001b[39m\n",
            "\u001b[32m  ✓ \u001b[39m\u001b[90mAdapt\u001b[39m\n",
            "\u001b[32m  ✓ \u001b[39m\u001b[90mBitFlags\u001b[39m\n",
            "\u001b[32m  ✓ \u001b[39m\u001b[90mLogExpFunctions\u001b[39m\n",
            "\u001b[32m  ✓ \u001b[39m\u001b[90mStaticArraysCore\u001b[39m\n",
            "\u001b[32m  ✓ \u001b[39m\u001b[90mSimpleTraits\u001b[39m\n",
            "\u001b[32m  ✓ \u001b[39m\u001b[90mWoodburyMatrices\u001b[39m\n",
            "\u001b[32m  ✓ \u001b[39m\u001b[90mOpenSSL_jll\u001b[39m\n",
            "\u001b[32m  ✓ \u001b[39m\u001b[90mEarCut_jll\u001b[39m\n",
            "\u001b[32m  ✓ \u001b[39m\u001b[90mXML2_jll\u001b[39m\n",
            "\u001b[32m  ✓ \u001b[39m\u001b[90mConda\u001b[39m\n",
            "\u001b[32m  ✓ \u001b[39m\u001b[90mZMQ\u001b[39m\n",
            "\u001b[32m  ✓ \u001b[39m\u001b[90mTableTraits\u001b[39m\n",
            "\u001b[32m  ✓ \u001b[39m\u001b[90mTranscodingStreams → TestExt\u001b[39m\n",
            "\u001b[32m  ✓ \u001b[39m\u001b[90mGeoInterface\u001b[39m\n",
            "\u001b[32m  ✓ \u001b[39m\u001b[90mRatios → RatiosFixedPointNumbersExt\u001b[39m\n",
            "\u001b[32m  ✓ \u001b[39m\u001b[90mChainRulesCore → ChainRulesCoreSparseArraysExt\u001b[39m\n",
            "\u001b[32m  ✓ \u001b[39m\u001b[90mUnitful → ConstructionBaseUnitfulExt\u001b[39m\n",
            "\u001b[32m  ✓ \u001b[39m\u001b[90mOffsetArrays → OffsetArraysAdaptExt\u001b[39m\n",
            "\u001b[32m  ✓ \u001b[39m\u001b[90mLogExpFunctions → LogExpFunctionsChainRulesCoreExt\u001b[39m\n",
            "\u001b[32m  ✓ \u001b[39m\u001b[90mAxisAlgorithms\u001b[39m\n",
            "\u001b[32m  ✓ \u001b[39m\u001b[90mGettext_jll\u001b[39m\n",
            "\u001b[32m  ✓ \u001b[39m\u001b[90mXSLT_jll\u001b[39m\n",
            "\u001b[32m  ✓ \u001b[39mIJulia\n",
            "\u001b[32m  ✓ \u001b[39m\u001b[90mCodecZlib\u001b[39m\n",
            "\u001b[32m  ✓ \u001b[39m\u001b[90mOpenSSL\u001b[39m\n",
            "\u001b[32m  ✓ \u001b[39m\u001b[90mTables\u001b[39m\n",
            "\u001b[32m  ✓ \u001b[39m\u001b[90mStaticArrays\u001b[39m\n",
            "\u001b[32m  ✓ \u001b[39m\u001b[90mXorg_libxcb_jll\u001b[39m\n",
            "\u001b[32m  ✓ \u001b[39m\u001b[90mGlib_jll\u001b[39m\n",
            "\u001b[32m  ✓ \u001b[39m\u001b[90mUnitfulLatexify\u001b[39m\n",
            "\u001b[32m  ✓ \u001b[39m\u001b[90mStatsBase\u001b[39m\n",
            "\u001b[32m  ✓ \u001b[39m\u001b[90mAdapt → AdaptStaticArraysExt\u001b[39m\n",
            "\u001b[32m  ✓ \u001b[39m\u001b[90mConstructionBase → ConstructionBaseStaticArraysExt\u001b[39m\n",
            "\u001b[32m  ✓ \u001b[39m\u001b[90mStaticArrays → StaticArraysStatisticsExt\u001b[39m\n",
            "\u001b[32m  ✓ \u001b[39m\u001b[90mStaticArrays → StaticArraysChainRulesCoreExt\u001b[39m\n",
            "\u001b[32m  ✓ \u001b[39m\u001b[90mGLFW_jll\u001b[39m\n",
            "\u001b[32m  ✓ \u001b[39m\u001b[90mCairo_jll\u001b[39m\n",
            "\u001b[32m  ✓ \u001b[39m\u001b[90mQt6Base_jll\u001b[39m\n",
            "\u001b[32m  ✓ \u001b[39m\u001b[90mArnoldiMethod\u001b[39m\n",
            "\u001b[32m  ✓ \u001b[39m\u001b[90mStructArrays\u001b[39m\n",
            "\u001b[32m  ✓ \u001b[39m\u001b[90mHTTP\u001b[39m\n",
            "\u001b[32m  ✓ \u001b[39m\u001b[90mHarfBuzz_jll\u001b[39m\n",
            "\u001b[32m  ✓ \u001b[39m\u001b[90mGeometryTypes\u001b[39m\n",
            "\u001b[32m  ✓ \u001b[39m\u001b[90mStructArrays → StructArraysAdaptExt\u001b[39m\n",
            "\u001b[32m  ✓ \u001b[39m\u001b[90mStructArrays → StructArraysSparseArraysExt\u001b[39m\n",
            "\u001b[32m  ✓ \u001b[39m\u001b[90mStructArrays → StructArraysStaticArraysExt\u001b[39m\n",
            "\u001b[32m  ✓ \u001b[39m\u001b[90mlibass_jll\u001b[39m\n",
            "\u001b[32m  ✓ \u001b[39m\u001b[90mInterpolations\u001b[39m\n",
            "\u001b[32m  ✓ \u001b[39m\u001b[90mFFMPEG_jll\u001b[39m\n",
            "\u001b[32m  ✓ \u001b[39m\u001b[90mInterpolations → InterpolationsUnitfulExt\u001b[39m\n",
            "\u001b[32m  ✓ \u001b[39m\u001b[90mGraphs\u001b[39m\n",
            "\u001b[32m  ✓ \u001b[39m\u001b[90mFFMPEG\u001b[39m\n",
            "\u001b[32m  ✓ \u001b[39m\u001b[90mGeometryBasics\u001b[39m\n",
            "\u001b[32m  ✓ \u001b[39m\u001b[90mGR_jll\u001b[39m\n",
            "\u001b[32m  ✓ \u001b[39m\u001b[90mNetworkLayout\u001b[39m\n",
            "\u001b[32m  ✓ \u001b[39m\u001b[90mNetworkLayout → NetworkLayoutGraphsExt\u001b[39m\n",
            "\u001b[32m  ✓ \u001b[39m\u001b[90mGR\u001b[39m\n",
            "\u001b[32m  ✓ \u001b[39mGraphRecipes\n",
            "\u001b[32m  ✓ \u001b[39mPlots\n",
            "\u001b[32m  ✓ \u001b[39m\u001b[90mPlots → UnitfulExt\u001b[39m\n",
            "\u001b[32m  ✓ \u001b[39m\u001b[90mPlots → IJuliaExt\u001b[39m\n",
            "\u001b[32m  ✓ \u001b[39m\u001b[90mPlots → GeometryBasicsExt\u001b[39m\n",
            "  75 dependencies successfully precompiled in 268 seconds. 126 already precompiled.\n"
          ]
        }
      ],
      "source": [
        "import Pkg\n",
        "Pkg.activate(@__DIR__)\n",
        "Pkg.instantiate()"
      ]
    },
    {
      "cell_type": "markdown",
      "id": "0e3bcb27-26cb-4cdd-a824-b55031e01b4e",
      "metadata": {},
      "source": [
        "Standard Julia practice is to load all needed packages at the top of a\n",
        "file. If you need to load any additional packages in any assignments\n",
        "beyond those which are loaded by default, feel free to add a `using`\n",
        "statement, though [you may need to install the\n",
        "package](https://viveks.me/environmental-systems-analysis/tutorials/julia-basics.html#package-management)."
      ]
    },
    {
      "cell_type": "code",
      "execution_count": 2,
      "id": "4",
      "metadata": {},
      "outputs": [],
      "source": [
        "using Random\n",
        "using Plots\n",
        "using GraphRecipes\n",
        "using LaTeXStrings"
      ]
    },
    {
      "cell_type": "code",
      "execution_count": 3,
      "id": "6",
      "metadata": {},
      "outputs": [
        {
          "data": {
            "text/plain": [
              "TaskLocalRNG()"
            ]
          },
          "metadata": {},
          "output_type": "display_data"
        }
      ],
      "source": [
        "# this sets a random seed, which ensures reproducibility of random number generation. You should always set a seed when working with random numbers.\n",
        "Random.seed!(1)"
      ]
    },
    {
      "cell_type": "markdown",
      "id": "02482a14-41e8-43bd-afa1-eee124ce54b3",
      "metadata": {},
      "source": [
        "## Problems (Total: 50/60 Points)\n",
        "\n",
        "### Problem 1 (15 points)\n",
        "\n",
        "The following subproblems all involve code snippets that require\n",
        "debugging.\n",
        "\n",
        "**For each of them**:\n",
        "\n",
        "-   identify and describe the logic and/or syntax error;\n",
        "-   write a fixed version of the function;\n",
        "-   use your fixed function to solve the problem.\n",
        "\n",
        "#### Problem 1.1\n",
        "\n",
        "You’ve been tasked with writing code to identify the minimum value in an\n",
        "array. You cannot use a predefined function. Your colleague suggested\n",
        "the function below, but it does not return the minimum value."
      ]
    },
    {
      "cell_type": "code",
      "execution_count": 15,
      "id": "8",
      "metadata": {},
      "outputs": [
        {
          "name": "stdout",
          "output_type": "stream",
          "text": [
            "minimum(array_values) = 78\n"
          ]
        }
      ],
      "source": [
        "function minimum(array)\n",
        "    min_value = array[1] \n",
        "    for i in 1:length(array)\n",
        "        if array[i] < min_value\n",
        "            min_value = array[i]\n",
        "        end\n",
        "    end\n",
        "    return min_value\n",
        "end\n",
        "\n",
        "array_values = [89, 90, 95, 100, 100, 78, 99, 98, 100, 95]\n",
        "@show minimum(array_values);"
      ]
    },
    {
      "cell_type": "markdown",
      "id": "d367cccf",
      "metadata": {},
      "source": [
        "The function was not returning the minimum value because the minimum value was not 0. I fixed the function by setting the minimum value to be the first value of the array. If the next array value is lower than the first value of the array, it would replace the value. "
      ]
    },
    {
      "cell_type": "markdown",
      "id": "b64501cb-369d-464d-94f4-7fa51072cd2b",
      "metadata": {},
      "source": [
        "#### Problem 1.2\n",
        "\n",
        "Your team is trying to compute the average grade for your class, but the\n",
        "following code produces an error."
      ]
    },
    {
      "cell_type": "code",
      "execution_count": 36,
      "id": "10",
      "metadata": {},
      "outputs": [
        {
          "name": "stdout",
          "output_type": "stream",
          "text": [
            "class_average(student_grades) = 94.4\n"
          ]
        }
      ],
      "source": [
        "student_grades = [89, 90, 95, 100, 100, 78, 99, 98, 100, 95]\n",
        "function class_average(grades)\n",
        "  average_grade = sum(grades)/length(grades)\n",
        "  return average_grade\n",
        "end\n",
        "\n",
        "@show class_average(student_grades);"
      ]
    },
    {
      "cell_type": "markdown",
      "id": "8f0bedd1",
      "metadata": {},
      "source": [
        "The function produced an error for two reasons. The first reason is that mean is not an exisiting function in Julia. I fixed this by calculating the mean without a function. I used the sum function to find the total sum of the grades, then divided by the length of the grades array. The second reason was in last line, @show average_grade. The function class_average was not called. I fixed this by calling the class_average function to compute the average of the student_grades parameter. "
      ]
    },
    {
      "cell_type": "markdown",
      "id": "5c97a0dc-97bd-43b2-8caa-a1628f47f932",
      "metadata": {},
      "source": [
        "#### Problem 1.3\n",
        "\n",
        "Your team wants to know the expected payout of an old Italian dice game\n",
        "called *passadieci* (which was analyzed by Galileo as one of the first\n",
        "examples of a rigorous study of probability). The goal of passadieci is\n",
        "to get at least an 11 from rolling three fair, six-sided dice. Your\n",
        "strategy is to compute the average wins from 1,000 trials, but the code\n",
        "you’ve written below produces an error."
      ]
    },
    {
      "cell_type": "code",
      "execution_count": 52,
      "id": "12",
      "metadata": {},
      "outputs": [
        {
          "name": "stdout",
          "output_type": "stream",
          "text": [
            "win_prob = 0.381\n"
          ]
        }
      ],
      "source": [
        "function passadieci()\n",
        "    # this rand() call samples 3 values from the vector [1, 6]\n",
        "    roll = rand(1:6, 3) \n",
        "    return roll\n",
        "end\n",
        "n_trials = 1000\n",
        "outcomes = zeros(1,1000)\n",
        "for i = 1:n_trials\n",
        "    outcomes[i] = (sum(passadieci()) > 11)\n",
        "end\n",
        "win_prob = sum(outcomes) / n_trials # compute average number of wins\n",
        "@show win_prob;"
      ]
    },
    {
      "cell_type": "markdown",
      "id": "dbb3a631",
      "metadata": {},
      "source": [
        "Camden Wehrle (cw566) helped me with this question. The below code produces an error because the outcomes was equal to be zeros(n_trials). That would return a singular 0 value. I fixed this by making it zeros(1,1000) since it should be a 1x1000 matrix of 0s. "
      ]
    },
    {
      "cell_type": "markdown",
      "id": "250cde8c-cd2b-4ace-b3ca-245b59e4a445",
      "metadata": {},
      "source": [
        "### Problem 2 (5 points)\n",
        "\n",
        "You’ve been handed some code to analyze. The original coder was not very\n",
        "considerate of other potential users: the function is called\n",
        "`mystery_function` and there are no comments explaining the purpose of\n",
        "the code. It appears to take in an array and return some numbers, and\n",
        "you’ve been assured that the code works as intended."
      ]
    },
    {
      "cell_type": "code",
      "execution_count": 57,
      "id": "14",
      "metadata": {},
      "outputs": [
        {
          "name": "stdout",
          "output_type": "stream",
          "text": [
            "mystery_function(list_of_values) = Any[1, 2, 3, 4]\n",
            "union(list_of_values) = [1, 2, 3, 4]\n"
          ]
        },
        {
          "data": {
            "text/plain": [
              "4-element Vector{Int64}:\n",
              " 1\n",
              " 2\n",
              " 3\n",
              " 4"
            ]
          },
          "metadata": {},
          "output_type": "display_data"
        }
      ],
      "source": [
        "# create a function that eliminates repeating values from list_of_values\n",
        "function mystery_function(values)\n",
        "    y = []\n",
        "    for v in values\n",
        "        if !(v in y)\n",
        "            append!(y, v)\n",
        "        end\n",
        "    end\n",
        "    return y\n",
        "end\n",
        "\n",
        "list_of_values = [1, 2, 3, 4, 3, 4, 2, 1]\n",
        "@show mystery_function(list_of_values);\n",
        "\n",
        "# there is a built-in JUlia function that does the same thing as mystery_function. it is the union() function. \n",
        "@show union(list_of_values)"
      ]
    },
    {
      "cell_type": "markdown",
      "id": "ed045483",
      "metadata": {},
      "source": [
        "The purpose of mystery_function is to eliminate repeating values from list_of_values. The function mystery_function would return a new list that has one value of each number that is on list_of_values. "
      ]
    },
    {
      "cell_type": "markdown",
      "id": "5473439c-157a-498d-9433-f7faa08dc359",
      "metadata": {},
      "source": []
    },
    {
      "cell_type": "markdown",
      "id": "63748cb7",
      "metadata": {},
      "source": [
        "**In this problem**:\n",
        "\n",
        "-   Explain the purpose of `mystery_function`.\n",
        "-   Add comments to the code, explaining why and how it works. Refer to\n",
        "    [“Best Practices for Writing Code\n",
        "    Comments”](https://stackoverflow.blog/2021/12/23/best-practices-for-writing-code-comments/),\n",
        "    and remember that bad comments can be just as bad as no comments at\n",
        "    all. You do not need to add comments to every line (in fact, this is\n",
        "    very bad practice), but you should note the *purpose* of every\n",
        "    “section” of code, and add comments explaining any code sequences\n",
        "    that you don’t immediately understand.\n",
        "-   Is there a built-in Julia function that does the same thing as\n",
        "    `mystery_function`? If so, what is it? Use it to do the same thing\n",
        "    as the code above.\n",
        "\n",
        "### Problem 3 (10 points)\n",
        "\n",
        "You’re interested in writing some code to remove the mean of a vector.\n",
        "\n",
        "**In this problem**:\n",
        "\n",
        "-   Write a function `compute_mean(v)` which sums all of the elements of\n",
        "    a vector `v` using a `for` loop and computes the mean.\n",
        "-   Make a random vector `random_vect` of length 10 using Julia’s\n",
        "    `rand()` function. Use your `compute_mean()` function to calculate\n",
        "    its mean and subtract it from `random_vect` **without a loop**\n",
        "    (using a Julia technique called *broadcasting*; feel free to consult\n",
        "    the Julia documentation and search as necessary). Check that the new\n",
        "    vector has mean zero.\n"
      ]
    },
    {
      "cell_type": "code",
      "execution_count": 70,
      "id": "aead8aad",
      "metadata": {},
      "outputs": [
        {
          "data": {
            "text/plain": [
              "10-element Vector{Float64}:\n",
              "  4.1\n",
              " -0.9000000000000004\n",
              "  2.0999999999999996\n",
              " -2.9000000000000004\n",
              " -4.9\n",
              "  4.1\n",
              " -1.9000000000000004\n",
              "  4.1\n",
              " -4.9\n",
              "  1.0999999999999996"
            ]
          },
          "metadata": {},
          "output_type": "display_data"
        }
      ],
      "source": [
        "# computing the mean of the vector v by dividing the sum with the number of elements\n",
        "function compute_mean(v)\n",
        "    for i in v\n",
        "        mean = sum(v)/length(v)\n",
        "    return mean\n",
        "    end\n",
        "end\n",
        "\n",
        "# generating 10 random numbers from 1 to 10\n",
        "random_vect = rand(1:10, 10)\n",
        "\n",
        "# finding the mean of generated numbers \n",
        "mean_vector = compute_mean(random_vect)\n",
        "\n",
        "# subtracting mean from random number vectors \n",
        "subtracted = random_vect .- mean_vector\n"
      ]
    },
    {
      "cell_type": "markdown",
      "id": "883d7dcc",
      "metadata": {},
      "source": [
        "Receieved help from Christine Berlingeri. "
      ]
    },
    {
      "cell_type": "markdown",
      "id": "d424aedf",
      "metadata": {},
      "source": [
        "\n",
        "### Problem 4 (20 points)\n",
        "\n",
        "Cheap Plastic Products, Inc. is operating a plant that produces\n",
        "$100 \\text{m}^3\\text{/day}$ of wastewater that is discharged into\n",
        "Pristine Brook. The wastewater contains $1 \\text{kg/m}^3$ of YUK, a\n",
        "toxic substance. The US Environmental Protection Agency has imposed an\n",
        "effluent standard on the plant prohibiting discharge of more than\n",
        "$20 \\text{kg/day}$ of YUK into Pristine Brook.\n",
        "\n",
        "Cheap Plastic Products has analyzed two methods for reducing its\n",
        "discharges of YUK. Method 1 is land disposal, which costs $X_1^2/20$\n",
        "dollars per day, where $X_1$ is the amount of wastewater disposed of on\n",
        "the land ($\\text{m}^3\\text{/day}$). With this method, 20% of the YUK\n",
        "applied to the land will eventually drain into the stream (*i.e.*, 80%\n",
        "of the YUK is removed by the soil).\n",
        "\n",
        "Method 2 is a chemical treatment procedure which costs \\$1.50 per\n",
        "$\\text{m}^3$ of wastewater treated. The chemical treatment has an\n",
        "efficiency of $e= 1 - 0.005X_2$, where $X_2$ is the quantity of\n",
        "wastewater ($\\text{m}^3\\text{/day}$) treated. For example, if\n",
        "$X_2 = 50 \\text{m}^3\\text{/day}$, then $e = 1 - 0.005(50) = 0.75$, so\n",
        "that 75% of the YUK is removed.\n",
        "\n",
        "Cheap Plastic Products is wondering how to allocate their wastewater\n",
        "between these three disposal and treatment methods (land disposal, and\n",
        "chemical treatment, and land disposal) to meet the effluent standard\n",
        "while keeping costs manageable.\n",
        "\n",
        "The flow of wastewater through this treatment system is shown in\n",
        "<a href=\"#fig-wastewater\" class=\"quarto-xref\">Figure 1</a>. Modify the\n",
        "edge labels (by editing the `edge_labels` dictionary in the code\n",
        "producing <a href=\"#fig-wastewater\" class=\"quarto-xref\">Figure 1</a>) to\n",
        "show how the wastewater allocations result in the final YUK discharge\n",
        "into Pristine Brook. For the `edge_label` dictionary, the tuple $(i, j)$\n",
        "corresponds to the arrow going from node $i$ to node $j$. The syntax for\n",
        "any entry is `(i, j) => \"label text\"`, and the label text can include\n",
        "mathematical notation if the string is prefaced with an `L`, as in\n",
        "`L\"x_1\"` will produce $x_1$."
      ]
    },
    {
      "cell_type": "code",
      "execution_count": 77,
      "id": "cell-fig-wastewater",
      "metadata": {},
      "outputs": [
        {
          "data": {
            "image/png": "[encoded data removed]",
            "image/svg+xml": [
              "<?xml version=\"1.0\" encoding=\"utf-8\"?>\n",
              "<svg xmlns=\"http://www.w3.org/2000/svg\" xmlns:xlink=\"http://www.w3.org/1999/xlink\" width=\"600\" height=\"400\" viewBox=\"0 0 2400 1600\">\n",
              "<defs>\n",
              "  <clipPath id=\"clip690\">\n",
              "    <rect x=\"0\" y=\"0\" width=\"2400\" height=\"1600\"/>\n",
              "  </clipPath>\n",
              "</defs>\n",
              "<path clip-path=\"url(#clip690)\" d=\"M0 1600 L2400 1600 L2400 0 L0 0  Z\" fill=\"#ffffff\" fill-rule=\"evenodd\" fill-opacity=\"1\"/>\n",
              "<defs>\n",
              "  <clipPath id=\"clip691\">\n",
              "    <rect x=\"480\" y=\"0\" width=\"1681\" height=\"1600\"/>\n",
              "  </clipPath>\n",
              "</defs>\n",
              "<path clip-path=\"url(#clip690)\" d=\"M259.055 1552.76 L2140.94 1552.76 L2140.94 47.2441 L259.055 47.2441  Z\" fill=\"#ffffff\" fill-rule=\"evenodd\" fill-opacity=\"1\"/>\n",
              "<defs>\n",
              "  <clipPath id=\"clip692\">\n",
              "    <rect x=\"259\" y=\"47\" width=\"1883\" height=\"1507\"/>\n",
              "  </clipPath>\n",
              "</defs>\n",
              "<polyline clip-path=\"url(#clip692)\" style=\"stroke:#000000; stroke-linecap:round; stroke-linejoin:round; stroke-width:4; stroke-opacity:1; fill:none\" points=\"1334.42,262.317 1318.22,275.046 1302.02,287.766 1285.83,300.469 1269.64,313.146 1253.48,325.79 1237.33,338.392 1221.2,350.944 1205.09,363.436 1189.02,375.861 1172.97,388.21 1156.96,400.474 1140.99,412.646 1125.07,424.716 1109.18,436.677 1093.35,448.52 1077.57,460.237 1061.85,471.818 1046.18,483.256 1030.58,494.543 1015.05,505.669 999.586,516.626 984.197,527.407 968.885,538.002 953.655,548.402 938.509,558.601 923.447,568.598 908.467,578.401 893.564,588.018 878.735,597.459 863.976,606.73 849.284,615.842 834.656,624.801 820.088,633.617 805.576,642.299 791.117,650.853 776.707,659.29 762.343,667.617 748.021,675.843 733.738,683.976 719.49,692.025 705.274,699.998 691.087,707.903 676.923,715.75 662.781,723.546 648.657,731.299 634.547,739.019 620.447,746.714 606.354,754.392 592.265,762.061 \"/>\n",
              "<polyline clip-path=\"url(#clip692)\" style=\"stroke:#000000; stroke-linecap:round; stroke-linejoin:round; stroke-width:4; stroke-opacity:1; fill:none\" points=\"632.49,760.659 592.265,762.061 615.278,729.04 \"/>\n",
              "<polyline clip-path=\"url(#clip692)\" style=\"stroke:#000000; stroke-linecap:round; stroke-linejoin:round; stroke-width:4; stroke-opacity:1; fill:none\" points=\"592.265,762.061 606.354,754.392 \"/>\n",
              "<polyline clip-path=\"url(#clip692)\" style=\"stroke:#000000; stroke-linecap:round; stroke-linejoin:round; stroke-width:4; stroke-opacity:1; fill:none\" points=\"1334.42,262.317 1333.14,274.076 1331.85,285.829 1330.55,297.572 1329.24,309.3 1327.92,321.006 1326.57,332.687 1325.21,344.336 1323.81,355.949 1322.38,367.521 1320.92,379.045 1319.42,390.518 1317.88,401.933 1316.28,413.286 1314.64,424.572 1312.94,435.784 1311.18,446.919 1309.36,457.97 1307.47,468.933 1305.51,479.803 1303.48,490.573 1301.37,501.24 1299.17,511.797 1296.89,522.24 1294.51,532.564 1292.05,542.763 1289.48,552.837 1286.83,562.792 1284.09,572.632 1281.27,582.363 1278.37,591.99 1275.39,601.518 1272.34,610.953 1269.23,620.299 1266.05,629.562 1262.81,638.747 1259.52,647.86 1256.18,656.904 1252.79,665.887 1249.35,674.812 1245.88,683.685 1242.37,692.511 1238.83,701.296 1235.26,710.044 1231.67,718.762 1228.06,727.453 1224.43,736.123 1220.79,744.778 1217.14,753.422 1213.49,762.061 \"/>\n",
              "<polyline clip-path=\"url(#clip692)\" style=\"stroke:#000000; stroke-linecap:round; stroke-linejoin:round; stroke-width:4; stroke-opacity:1; fill:none\" points=\"1244.09,735.908 1213.49,762.061 1210.93,721.894 \"/>\n",
              "<polyline clip-path=\"url(#clip692)\" style=\"stroke:#000000; stroke-linecap:round; stroke-linejoin:round; stroke-width:4; stroke-opacity:1; fill:none\" points=\"1213.49,762.061 1217.14,753.422 \"/>\n",
              "<polyline clip-path=\"url(#clip692)\" style=\"stroke:#000000; stroke-linecap:round; stroke-linejoin:round; stroke-width:4; stroke-opacity:1; fill:none\" points=\"1334.42,262.317 1344.89,286.727 1355.34,311.117 1365.79,335.467 1376.23,359.758 1386.65,383.97 1397.04,408.083 1407.41,432.078 1417.74,455.935 1428.03,479.633 1438.28,503.154 1448.49,526.477 1458.64,549.583 1468.73,572.452 1478.77,595.064 1488.74,617.4 1498.63,639.44 1508.45,661.163 1518.19,682.551 1527.85,703.583 1537.41,724.24 1546.88,744.502 1556.25,764.349 1565.52,783.762 1574.68,802.72 1583.72,821.205 1592.66,839.218 1601.48,856.775 1610.2,873.899 1618.82,890.607 1627.34,906.921 1635.77,922.859 1644.12,938.442 1652.39,953.689 1660.58,968.62 1668.71,983.254 1676.76,997.613 1684.76,1011.71 1692.69,1025.58 1700.58,1039.23 1708.42,1052.68 1716.21,1065.95 1723.97,1079.06 1731.7,1092.04 1739.39,1104.89 1747.06,1117.65 1754.72,1130.33 1762.36,1142.95 1769.99,1155.53 1777.61,1168.09 \"/>\n",
              "<polyline clip-path=\"url(#clip692)\" style=\"stroke:#000000; stroke-linecap:round; stroke-linejoin:round; stroke-width:4; stroke-opacity:1; fill:none\" points=\"1774.32,1127.98 1777.61,1168.09 1743.54,1146.66 \"/>\n",
              "<polyline clip-path=\"url(#clip692)\" style=\"stroke:#000000; stroke-linecap:round; stroke-linejoin:round; stroke-width:4; stroke-opacity:1; fill:none\" points=\"1777.61,1168.09 1769.99,1155.53 \"/>\n",
              "<polyline clip-path=\"url(#clip692)\" style=\"stroke:#000000; stroke-linecap:round; stroke-linejoin:round; stroke-width:4; stroke-opacity:1; fill:none\" points=\"527.897,800 556.372,813.092 584.833,826.172 613.265,839.231 641.653,852.257 669.983,865.238 698.241,878.165 726.411,891.025 754.48,903.809 782.433,916.504 810.255,929.1 837.931,941.587 865.449,953.951 892.791,966.184 919.946,978.274 946.896,990.209 973.629,1001.98 1000.13,1013.57 1026.38,1024.98 1052.38,1036.19 1078.09,1047.19 1103.52,1057.97 1128.64,1068.52 1153.44,1078.82 1177.91,1088.87 1202.03,1098.66 1225.8,1108.19 1249.24,1117.46 1272.36,1126.49 1295.18,1135.29 1317.7,1143.87 1339.95,1152.23 1361.93,1160.4 1383.67,1168.39 1405.18,1176.19 1426.47,1183.84 1447.56,1191.32 1468.45,1198.67 1489.18,1205.88 1509.74,1212.97 1530.16,1219.95 1550.45,1226.84 1570.62,1233.63 1590.69,1240.35 1610.67,1247 1630.58,1253.59 1650.43,1260.15 1670.24,1266.66 1690.02,1273.16 1709.79,1279.65 \"/>\n",
              "<polyline clip-path=\"url(#clip692)\" style=\"stroke:#000000; stroke-linecap:round; stroke-linejoin:round; stroke-width:4; stroke-opacity:1; fill:none\" points=\"1681.19,1251.32 1709.79,1279.65 1669.97,1285.52 \"/>\n",
              "<polyline clip-path=\"url(#clip692)\" style=\"stroke:#000000; stroke-linecap:round; stroke-linejoin:round; stroke-width:4; stroke-opacity:1; fill:none\" points=\"1709.79,1279.65 1690.02,1273.16 \"/>\n",
              "<polyline clip-path=\"url(#clip692)\" style=\"stroke:#000000; stroke-linecap:round; stroke-linejoin:round; stroke-width:4; stroke-opacity:1; fill:none\" points=\"1200,800 1214.11,813.255 1228.21,826.495 1242.28,839.707 1256.32,852.876 1270.32,865.988 1284.27,879.029 1298.15,891.984 1311.96,904.839 1325.68,917.58 1339.3,930.193 1352.82,942.663 1366.21,954.976 1379.48,967.118 1392.61,979.075 1405.58,990.831 1418.39,1002.37 1431.04,1013.69 1443.49,1024.76 1455.76,1035.58 1467.82,1046.12 1479.66,1056.38 1491.28,1066.34 1502.66,1075.99 1513.79,1085.3 1524.66,1094.28 1535.28,1102.91 1545.64,1111.22 1555.77,1119.21 1565.67,1126.9 1575.36,1134.31 1584.84,1141.45 1594.13,1148.33 1603.24,1154.96 1612.17,1161.37 1620.94,1167.57 1629.56,1173.56 1638.04,1179.37 1646.39,1185.01 1654.62,1190.49 1662.74,1195.83 1670.77,1201.04 1678.71,1206.14 1686.57,1211.14 1694.37,1216.05 1702.12,1220.89 1709.82,1225.67 1717.49,1230.41 1725.14,1235.12 1732.78,1239.82 \"/>\n",
              "<polyline clip-path=\"url(#clip692)\" style=\"stroke:#000000; stroke-linecap:round; stroke-linejoin:round; stroke-width:4; stroke-opacity:1; fill:none\" points=\"1711.54,1205.63 1732.78,1239.82 1692.69,1236.29 \"/>\n",
              "<polyline clip-path=\"url(#clip692)\" style=\"stroke:#000000; stroke-linecap:round; stroke-linejoin:round; stroke-width:4; stroke-opacity:1; fill:none\" points=\"1732.78,1239.82 1725.14,1235.12 \"/>\n",
              "<path clip-path=\"url(#clip692)\" d=\"M926.412 571.594 L965.731 571.594 L965.731 535.461 L926.412 535.461 L926.412 571.594 L926.412 571.594  Z\" fill=\"#ffffff\" fill-rule=\"evenodd\" fill-opacity=\"1\"/>\n",
              "<polyline clip-path=\"url(#clip692)\" style=\"stroke:#000000; stroke-linecap:round; stroke-linejoin:round; stroke-width:0; stroke-opacity:0; fill:none\" points=\"926.412,571.594 965.731,571.594 965.731,535.461 926.412,535.461 926.412,571.594 \"/>\n",
              "<path clip-path=\"url(#clip692)\" d=\"M1273.63 555.745 L1312.95 555.745 L1312.95 519.613 L1273.63 519.613 L1273.63 555.745 L1273.63 555.745  Z\" fill=\"#ffffff\" fill-rule=\"evenodd\" fill-opacity=\"1\"/>\n",
              "<polyline clip-path=\"url(#clip692)\" style=\"stroke:#000000; stroke-linecap:round; stroke-linejoin:round; stroke-width:0; stroke-opacity:0; fill:none\" points=\"1273.63,555.745 1312.95,555.745 1312.95,519.613 1273.63,519.613 1273.63,555.745 \"/>\n",
              "<path clip-path=\"url(#clip692)\" d=\"M1513.73 830.089 L1644.7 830.089 L1644.7 793.957 L1513.73 793.957 L1513.73 830.089 L1513.73 830.089  Z\" fill=\"#ffffff\" fill-rule=\"evenodd\" fill-opacity=\"1\"/>\n",
              "<polyline clip-path=\"url(#clip692)\" style=\"stroke:#000000; stroke-linecap:round; stroke-linejoin:round; stroke-width:0; stroke-opacity:0; fill:none\" points=\"1513.73,830.089 1644.7,830.089 1644.7,793.957 1513.73,793.957 1513.73,830.089 \"/>\n",
              "<path clip-path=\"url(#clip692)\" d=\"M1149.1 1111.87 L1230.93 1111.87 L1230.93 1075.74 L1149.1 1075.74 L1149.1 1111.87 L1149.1 1111.87  Z\" fill=\"#ffffff\" fill-rule=\"evenodd\" fill-opacity=\"1\"/>\n",
              "<polyline clip-path=\"url(#clip692)\" style=\"stroke:#000000; stroke-linecap:round; stroke-linejoin:round; stroke-width:0; stroke-opacity:0; fill:none\" points=\"1149.1,1111.87 1230.93,1111.87 1230.93,1075.74 1149.1,1075.74 1149.1,1111.87 \"/>\n",
              "<path clip-path=\"url(#clip692)\" d=\"M1453.77 1107.9 L1584.74 1107.9 L1584.74 1071.77 L1453.77 1071.77 L1453.77 1107.9 L1453.77 1107.9  Z\" fill=\"#ffffff\" fill-rule=\"evenodd\" fill-opacity=\"1\"/>\n",
              "<polyline clip-path=\"url(#clip692)\" style=\"stroke:#000000; stroke-linecap:round; stroke-linejoin:round; stroke-width:0; stroke-opacity:0; fill:none\" points=\"1453.77,1107.9 1584.74,1107.9 1584.74,1071.77 1453.77,1071.77 1453.77,1107.9 \"/>\n",
              "<path clip-path=\"url(#clip692)\" d=\"M1420.35 262.317 L1377.39 187.9 L1291.46 187.9 L1248.49 262.317 L1291.46 336.734 L1377.39 336.734 L1420.35 262.317 L1420.35 262.317  Z\" fill=\"#ffffff\" fill-rule=\"evenodd\" fill-opacity=\"1\"/>\n",
              "<polyline clip-path=\"url(#clip692)\" style=\"stroke:#000000; stroke-linecap:round; stroke-linejoin:round; stroke-width:4; stroke-opacity:1; fill:none\" points=\"1420.35,262.317 1377.39,187.9 1291.46,187.9 1248.49,262.317 1291.46,336.734 1377.39,336.734 1420.35,262.317 \"/>\n",
              "<path clip-path=\"url(#clip692)\" d=\"M332.072 837.939 L723.721 837.939 L723.721 762.061 L332.072 762.061 L332.072 837.939 L332.072 837.939  Z\" fill=\"#ffffff\" fill-rule=\"evenodd\" fill-opacity=\"1\"/>\n",
              "<polyline clip-path=\"url(#clip692)\" style=\"stroke:#000000; stroke-linecap:round; stroke-linejoin:round; stroke-width:4; stroke-opacity:1; fill:none\" points=\"332.072,837.939 723.721,837.939 723.721,762.061 332.072,762.061 332.072,837.939 \"/>\n",
              "<path clip-path=\"url(#clip692)\" d=\"M1004.18 837.939 L1395.82 837.939 L1395.82 762.061 L1004.18 762.061 L1004.18 837.939 L1004.18 837.939  Z\" fill=\"#ffffff\" fill-rule=\"evenodd\" fill-opacity=\"1\"/>\n",
              "<polyline clip-path=\"url(#clip692)\" style=\"stroke:#000000; stroke-linecap:round; stroke-linejoin:round; stroke-width:4; stroke-opacity:1; fill:none\" points=\"1004.18,837.939 1395.82,837.939 1395.82,762.061 1004.18,762.061 1004.18,837.939 \"/>\n",
              "<path clip-path=\"url(#clip692)\" d=\"M2067.93 1337.68 L1970.02 1168.09 L1774.19 1168.09 L1676.28 1337.68 L1774.19 1507.27 L1970.02 1507.27 L2067.93 1337.68 L2067.93 1337.68  Z\" fill=\"#ffffff\" fill-rule=\"evenodd\" fill-opacity=\"1\"/>\n",
              "<polyline clip-path=\"url(#clip692)\" style=\"stroke:#000000; stroke-linecap:round; stroke-linejoin:round; stroke-width:4; stroke-opacity:1; fill:none\" points=\"2067.93,1337.68 1970.02,1168.09 1774.19,1168.09 1676.28,1337.68 1774.19,1507.27 1970.02,1507.27 2067.93,1337.68 \"/>\n",
              "<circle clip-path=\"url(#clip692)\" style=\"fill:#ffffff; stroke:none; fill-opacity:0\" cx=\"1334.42\" cy=\"262.317\" r=\"2\"/>\n",
              "<circle clip-path=\"url(#clip692)\" style=\"fill:#ffffff; stroke:none; fill-opacity:0\" cx=\"527.897\" cy=\"800\" r=\"2\"/>\n",
              "<circle clip-path=\"url(#clip692)\" style=\"fill:#ffffff; stroke:none; fill-opacity:0\" cx=\"1200\" cy=\"800\" r=\"2\"/>\n",
              "<circle clip-path=\"url(#clip692)\" style=\"fill:#ffffff; stroke:none; fill-opacity:0\" cx=\"1872.1\" cy=\"1337.68\" r=\"2\"/>\n",
              "<path clip-path=\"url(#clip690)\" d=\"M922.576 538.408 L926.971 538.408 L934.486 549.649 L942.041 538.408 L946.436 538.408 L936.714 552.93 L947.084 568.648 L942.689 568.648 L934.182 555.786 L925.614 568.648 L921.199 568.648 L931.994 552.505 L922.576 538.408 Z\" fill=\"#000000\" fill-rule=\"nonzero\" fill-opacity=\"1\" /><path clip-path=\"url(#clip690)\" d=\"M953.525 565.204 L960.209 565.204 L960.209 542.134 L952.938 543.593 L952.938 539.866 L960.168 538.408 L964.26 538.408 L964.26 565.204 L970.944 565.204 L970.944 568.648 L953.525 568.648 L953.525 565.204 Z\" fill=\"#000000\" fill-rule=\"nonzero\" fill-opacity=\"1\" /><path clip-path=\"url(#clip690)\" d=\"M1269.96 522.559 L1274.35 522.559 L1281.87 533.8 L1289.42 522.559 L1293.82 522.559 L1284.1 537.081 L1294.47 552.799 L1290.07 552.799 L1281.56 539.937 L1273 552.799 L1268.58 552.799 L1279.38 536.656 L1269.96 522.559 Z\" fill=\"#000000\" fill-rule=\"nonzero\" fill-opacity=\"1\" /><path clip-path=\"url(#clip690)\" d=\"M1303.72 549.356 L1318 549.356 L1318 552.799 L1298.8 552.799 L1298.8 549.356 Q1301.13 546.945 1305.14 542.895 Q1309.17 538.823 1310.2 537.649 Q1312.17 535.441 1312.94 533.922 Q1313.73 532.382 1313.73 530.904 Q1313.73 528.494 1312.03 526.974 Q1310.35 525.455 1307.63 525.455 Q1305.71 525.455 1303.56 526.124 Q1301.43 526.792 1299 528.149 L1299 524.017 Q1301.47 523.025 1303.62 522.518 Q1305.77 522.012 1307.55 522.012 Q1312.25 522.012 1315.05 524.362 Q1317.84 526.711 1317.84 530.641 Q1317.84 532.504 1317.13 534.185 Q1316.44 535.846 1314.6 538.114 Q1314.09 538.702 1311.38 541.517 Q1308.66 544.312 1303.72 549.356 Z\" fill=\"#000000\" fill-rule=\"nonzero\" fill-opacity=\"1\" /><path clip-path=\"url(#clip690)\" d=\"M1476.86 823.7 L1483.54 823.7 L1483.54 800.63 L1476.27 802.088 L1476.27 798.361 L1483.5 796.903 L1487.59 796.903 L1487.59 823.7 L1494.28 823.7 L1494.28 827.143 L1476.86 827.143 L1476.86 823.7 Z\" fill=\"#000000\" fill-rule=\"nonzero\" fill-opacity=\"1\" /><path clip-path=\"url(#clip690)\" d=\"M1511.29 799.597 Q1508.13 799.597 1506.53 802.716 Q1504.95 805.815 1504.95 812.053 Q1504.95 818.271 1506.53 821.391 Q1508.13 824.49 1511.29 824.49 Q1514.47 824.49 1516.05 821.391 Q1517.65 818.271 1517.65 812.053 Q1517.65 805.815 1516.05 802.716 Q1514.47 799.597 1511.29 799.597 M1511.29 796.356 Q1516.38 796.356 1519.05 800.387 Q1521.74 804.397 1521.74 812.053 Q1521.74 819.689 1519.05 823.72 Q1516.38 827.73 1511.29 827.73 Q1506.21 827.73 1503.51 823.72 Q1500.84 819.689 1500.84 812.053 Q1500.84 804.397 1503.51 800.387 Q1506.21 796.356 1511.29 796.356 Z\" fill=\"#000000\" fill-rule=\"nonzero\" fill-opacity=\"1\" /><path clip-path=\"url(#clip690)\" d=\"M1537.68 799.597 Q1534.52 799.597 1532.92 802.716 Q1531.34 805.815 1531.34 812.053 Q1531.34 818.271 1532.92 821.391 Q1534.52 824.49 1537.68 824.49 Q1540.86 824.49 1542.44 821.391 Q1544.04 818.271 1544.04 812.053 Q1544.04 805.815 1542.44 802.716 Q1540.86 799.597 1537.68 799.597 M1537.68 796.356 Q1542.77 796.356 1545.44 800.387 Q1548.14 804.397 1548.14 812.053 Q1548.14 819.689 1545.44 823.72 Q1542.77 827.73 1537.68 827.73 Q1532.6 827.73 1529.91 823.72 Q1527.23 819.689 1527.23 812.053 Q1527.23 804.397 1529.91 800.387 Q1532.6 796.356 1537.68 796.356 Z\" fill=\"#000000\" fill-rule=\"nonzero\" fill-opacity=\"1\" /><path clip-path=\"url(#clip690)\" d=\"M1552.92 814.119 L1563.83 814.119 L1563.83 817.441 L1552.92 817.441 L1552.92 814.119 Z\" fill=\"#000000\" fill-rule=\"nonzero\" fill-opacity=\"1\" /><path clip-path=\"url(#clip690)\" d=\"M1566.41 796.903 L1570.8 796.903 L1578.31 808.144 L1585.87 796.903 L1590.27 796.903 L1580.54 811.425 L1590.91 827.143 L1586.52 827.143 L1578.01 814.281 L1569.44 827.143 L1565.03 827.143 L1575.82 811 L1566.41 796.903 Z\" fill=\"#000000\" fill-rule=\"nonzero\" fill-opacity=\"1\" /><path clip-path=\"url(#clip690)\" d=\"M1597.35 823.7 L1604.04 823.7 L1604.04 800.63 L1596.77 802.088 L1596.77 798.361 L1604 796.903 L1608.09 796.903 L1608.09 823.7 L1614.77 823.7 L1614.77 827.143 L1597.35 827.143 L1597.35 823.7 Z\" fill=\"#000000\" fill-rule=\"nonzero\" fill-opacity=\"1\" /><path clip-path=\"url(#clip690)\" d=\"M1620.63 814.119 L1631.54 814.119 L1631.54 817.441 L1620.63 817.441 L1620.63 814.119 Z\" fill=\"#000000\" fill-rule=\"nonzero\" fill-opacity=\"1\" /><path clip-path=\"url(#clip690)\" d=\"M1634.12 796.903 L1638.51 796.903 L1646.03 808.144 L1653.58 796.903 L1657.98 796.903 L1648.25 811.425 L1658.62 827.143 L1654.23 827.143 L1645.72 814.281 L1637.15 827.143 L1632.74 827.143 L1643.53 811 L1634.12 796.903 Z\" fill=\"#000000\" fill-rule=\"nonzero\" fill-opacity=\"1\" /><path clip-path=\"url(#clip690)\" d=\"M1667.88 823.7 L1682.16 823.7 L1682.16 827.143 L1662.96 827.143 L1662.96 823.7 Q1665.29 821.289 1669.3 817.238 Q1673.33 813.167 1674.36 811.993 Q1676.33 809.785 1677.1 808.266 Q1677.89 806.726 1677.89 805.248 Q1677.89 802.838 1676.18 801.318 Q1674.5 799.799 1671.79 799.799 Q1669.87 799.799 1667.72 800.468 Q1665.59 801.136 1663.16 802.493 L1663.16 798.361 Q1665.63 797.369 1667.78 796.862 Q1669.93 796.356 1671.71 796.356 Q1676.41 796.356 1679.2 798.706 Q1682 801.055 1682 804.985 Q1682 806.848 1681.29 808.529 Q1680.6 810.19 1678.76 812.458 Q1678.25 813.046 1675.54 815.861 Q1672.82 818.656 1667.88 823.7 Z\" fill=\"#000000\" fill-rule=\"nonzero\" fill-opacity=\"1\" /><path clip-path=\"url(#clip690)\" d=\"M1143.36 1081.38 Q1140.2 1081.38 1138.6 1084.5 Q1137.02 1087.59 1137.02 1093.83 Q1137.02 1100.05 1138.6 1103.17 Q1140.2 1106.27 1143.36 1106.27 Q1146.54 1106.27 1148.12 1103.17 Q1149.72 1100.05 1149.72 1093.83 Q1149.72 1087.59 1148.12 1084.5 Q1146.54 1081.38 1143.36 1081.38 M1143.36 1078.14 Q1148.44 1078.14 1151.12 1082.17 Q1153.81 1086.18 1153.81 1093.83 Q1153.81 1101.47 1151.12 1105.5 Q1148.44 1109.51 1143.36 1109.51 Q1138.28 1109.51 1135.58 1105.5 Q1132.91 1101.47 1132.91 1093.83 Q1132.91 1086.18 1135.58 1082.17 Q1138.28 1078.14 1143.36 1078.14 Z\" fill=\"#000000\" fill-rule=\"nonzero\" fill-opacity=\"1\" /><path clip-path=\"url(#clip690)\" d=\"M1161 1103.78 L1165.27 1103.78 L1165.27 1108.92 L1161 1108.92 L1161 1103.78 Z\" fill=\"#000000\" fill-rule=\"nonzero\" fill-opacity=\"1\" /><path clip-path=\"url(#clip690)\" d=\"M1177.71 1105.48 L1191.99 1105.48 L1191.99 1108.92 L1172.79 1108.92 L1172.79 1105.48 Q1175.12 1103.07 1179.13 1099.02 Q1183.16 1094.95 1184.19 1093.77 Q1186.16 1091.56 1186.93 1090.05 Q1187.72 1088.51 1187.72 1087.03 Q1187.72 1084.62 1186.02 1083.1 Q1184.33 1081.58 1181.62 1081.58 Q1179.7 1081.58 1177.55 1082.25 Q1175.42 1082.92 1172.99 1084.27 L1172.99 1080.14 Q1175.46 1079.15 1177.61 1078.64 Q1179.76 1078.14 1181.54 1078.14 Q1186.24 1078.14 1189.03 1080.49 Q1191.83 1082.83 1191.83 1086.76 Q1191.83 1088.63 1191.12 1090.31 Q1190.43 1091.97 1188.59 1094.24 Q1188.08 1094.83 1185.37 1097.64 Q1182.65 1100.44 1177.71 1105.48 Z\" fill=\"#000000\" fill-rule=\"nonzero\" fill-opacity=\"1\" /><path clip-path=\"url(#clip690)\" d=\"M1198.76 1078.68 L1203.15 1078.68 L1210.66 1089.92 L1218.22 1078.68 L1222.62 1078.68 L1212.89 1093.21 L1223.26 1108.92 L1218.87 1108.92 L1210.36 1096.06 L1201.79 1108.92 L1197.38 1108.92 L1208.17 1092.78 L1198.76 1078.68 Z\" fill=\"#000000\" fill-rule=\"nonzero\" fill-opacity=\"1\" /><path clip-path=\"url(#clip690)\" d=\"M1229.7 1105.48 L1236.39 1105.48 L1236.39 1082.41 L1229.12 1083.87 L1229.12 1080.14 L1236.35 1078.68 L1240.44 1078.68 L1240.44 1105.48 L1247.12 1105.48 L1247.12 1108.92 L1229.7 1108.92 L1229.7 1105.48 Z\" fill=\"#000000\" fill-rule=\"nonzero\" fill-opacity=\"1\" /><path clip-path=\"url(#clip690)\" d=\"M1415.8 1077.41 Q1412.64 1077.41 1411.04 1080.53 Q1409.46 1083.63 1409.46 1089.86 Q1409.46 1096.08 1411.04 1099.2 Q1412.64 1102.3 1415.8 1102.3 Q1418.98 1102.3 1420.56 1099.2 Q1422.16 1096.08 1422.16 1089.86 Q1422.16 1083.63 1420.56 1080.53 Q1418.98 1077.41 1415.8 1077.41 M1415.8 1074.17 Q1420.88 1074.17 1423.55 1078.2 Q1426.25 1082.21 1426.25 1089.86 Q1426.25 1097.5 1423.55 1101.53 Q1420.88 1105.54 1415.8 1105.54 Q1410.71 1105.54 1408.02 1101.53 Q1405.35 1097.5 1405.35 1089.86 Q1405.35 1082.21 1408.02 1078.2 Q1410.71 1074.17 1415.8 1074.17 Z\" fill=\"#000000\" fill-rule=\"nonzero\" fill-opacity=\"1\" /><path clip-path=\"url(#clip690)\" d=\"M1433.44 1099.81 L1437.71 1099.81 L1437.71 1104.95 L1433.44 1104.95 L1433.44 1099.81 Z\" fill=\"#000000\" fill-rule=\"nonzero\" fill-opacity=\"1\" /><path clip-path=\"url(#clip690)\" d=\"M1455.37 1077.41 Q1452.21 1077.41 1450.61 1080.53 Q1449.03 1083.63 1449.03 1089.86 Q1449.03 1096.08 1450.61 1099.2 Q1452.21 1102.3 1455.37 1102.3 Q1458.55 1102.3 1460.13 1099.2 Q1461.73 1096.08 1461.73 1089.86 Q1461.73 1083.63 1460.13 1080.53 Q1458.55 1077.41 1455.37 1077.41 M1455.37 1074.17 Q1460.46 1074.17 1463.13 1078.2 Q1465.83 1082.21 1465.83 1089.86 Q1465.83 1097.5 1463.13 1101.53 Q1460.46 1105.54 1455.37 1105.54 Q1450.29 1105.54 1447.6 1101.53 Q1444.92 1097.5 1444.92 1089.86 Q1444.92 1082.21 1447.6 1078.2 Q1450.29 1074.17 1455.37 1074.17 Z\" fill=\"#000000\" fill-rule=\"nonzero\" fill-opacity=\"1\" /><path clip-path=\"url(#clip690)\" d=\"M1481.77 1077.41 Q1478.61 1077.41 1477.01 1080.53 Q1475.43 1083.63 1475.43 1089.86 Q1475.43 1096.08 1477.01 1099.2 Q1478.61 1102.3 1481.77 1102.3 Q1484.95 1102.3 1486.53 1099.2 Q1488.13 1096.08 1488.13 1089.86 Q1488.13 1083.63 1486.53 1080.53 Q1484.95 1077.41 1481.77 1077.41 M1481.77 1074.17 Q1486.85 1074.17 1489.52 1078.2 Q1492.22 1082.21 1492.22 1089.86 Q1492.22 1097.5 1489.52 1101.53 Q1486.85 1105.54 1481.77 1105.54 Q1476.68 1105.54 1473.99 1101.53 Q1471.31 1097.5 1471.31 1089.86 Q1471.31 1082.21 1473.99 1078.2 Q1476.68 1074.17 1481.77 1074.17 Z\" fill=\"#000000\" fill-rule=\"nonzero\" fill-opacity=\"1\" /><path clip-path=\"url(#clip690)\" d=\"M1499.45 1074.71 L1515.51 1074.71 L1515.51 1078.16 L1503.2 1078.16 L1503.2 1085.57 Q1504.09 1085.27 1504.98 1085.13 Q1505.87 1084.96 1506.76 1084.96 Q1511.82 1084.96 1514.78 1087.74 Q1517.74 1090.51 1517.74 1095.25 Q1517.74 1100.13 1514.7 1102.85 Q1511.66 1105.54 1506.13 1105.54 Q1504.23 1105.54 1502.24 1105.22 Q1500.28 1104.89 1498.17 1104.25 L1498.17 1100.13 Q1500 1101.13 1501.94 1101.61 Q1503.88 1102.1 1506.05 1102.1 Q1509.56 1102.1 1511.6 1100.26 Q1513.65 1098.41 1513.65 1095.25 Q1513.65 1092.09 1511.6 1090.25 Q1509.56 1088.41 1506.05 1088.41 Q1504.41 1088.41 1502.77 1088.77 Q1501.15 1089.14 1499.45 1089.91 L1499.45 1074.71 Z\" fill=\"#000000\" fill-rule=\"nonzero\" fill-opacity=\"1\" /><path clip-path=\"url(#clip690)\" d=\"M1523.98 1074.71 L1528.37 1074.71 L1535.89 1085.96 L1543.44 1074.71 L1547.84 1074.71 L1538.11 1089.24 L1548.48 1104.95 L1544.09 1104.95 L1535.58 1092.09 L1527.01 1104.95 L1522.6 1104.95 L1533.4 1088.81 L1523.98 1074.71 Z\" fill=\"#000000\" fill-rule=\"nonzero\" fill-opacity=\"1\" /><path clip-path=\"url(#clip690)\" d=\"M1557.74 1101.51 L1572.02 1101.51 L1572.02 1104.95 L1552.82 1104.95 L1552.82 1101.51 Q1555.15 1099.1 1559.16 1095.05 Q1563.19 1090.98 1564.22 1089.8 Q1566.19 1087.6 1566.96 1086.08 Q1567.75 1084.54 1567.75 1083.06 Q1567.75 1080.65 1566.05 1079.13 Q1564.36 1077.61 1561.65 1077.61 Q1559.73 1077.61 1557.58 1078.28 Q1555.45 1078.95 1553.02 1080.3 L1553.02 1076.17 Q1555.49 1075.18 1557.64 1074.67 Q1559.79 1074.17 1561.57 1074.17 Q1566.27 1074.17 1569.06 1076.52 Q1571.86 1078.87 1571.86 1082.8 Q1571.86 1084.66 1571.15 1086.34 Q1570.46 1088 1568.62 1090.27 Q1568.11 1090.86 1565.4 1093.67 Q1562.68 1096.47 1557.74 1101.51 Z\" fill=\"#000000\" fill-rule=\"nonzero\" fill-opacity=\"1\" /><path clip-path=\"url(#clip690)\" d=\"M1595.54 1074.71 L1606.53 1086 L1602.46 1086 L1593.55 1078 L1584.64 1086 L1580.57 1086 L1591.57 1074.71 L1595.54 1074.71 Z\" fill=\"#000000\" fill-rule=\"nonzero\" fill-opacity=\"1\" /><path clip-path=\"url(#clip690)\" d=\"M1618.89 1101.51 L1633.17 1101.51 L1633.17 1104.95 L1613.97 1104.95 L1613.97 1101.51 Q1616.3 1099.1 1620.31 1095.05 Q1624.34 1090.98 1625.37 1089.8 Q1627.34 1087.6 1628.11 1086.08 Q1628.9 1084.54 1628.9 1083.06 Q1628.9 1080.65 1627.19 1079.13 Q1625.51 1077.61 1622.8 1077.61 Q1620.87 1077.61 1618.73 1078.28 Q1616.6 1078.95 1614.17 1080.3 L1614.17 1076.17 Q1616.64 1075.18 1618.79 1074.67 Q1620.94 1074.17 1622.72 1074.17 Q1627.42 1074.17 1630.21 1076.52 Q1633.01 1078.87 1633.01 1082.8 Q1633.01 1084.66 1632.3 1086.34 Q1631.61 1088 1629.77 1090.27 Q1629.26 1090.86 1626.55 1093.67 Q1623.83 1096.47 1618.89 1101.51 Z\" fill=\"#000000\" fill-rule=\"nonzero\" fill-opacity=\"1\" /><path clip-path=\"url(#clip690)\" d=\"M1288.79 250.559 L1288.79 261.922 L1293.93 261.922 Q1296.79 261.922 1298.35 260.444 Q1299.91 258.965 1299.91 256.231 Q1299.91 253.517 1298.35 252.038 Q1296.79 250.559 1293.93 250.559 L1288.79 250.559 M1284.7 247.197 L1293.93 247.197 Q1299.02 247.197 1301.61 249.506 Q1304.22 251.795 1304.22 256.231 Q1304.22 260.707 1301.61 262.996 Q1299.02 265.284 1293.93 265.284 L1288.79 265.284 L1288.79 277.437 L1284.7 277.437 L1284.7 247.197 Z\" fill=\"#000000\" fill-rule=\"nonzero\" fill-opacity=\"1\" /><path clip-path=\"url(#clip690)\" d=\"M1309.55 245.921 L1313.27 245.921 L1313.27 277.437 L1309.55 277.437 L1309.55 245.921 Z\" fill=\"#000000\" fill-rule=\"nonzero\" fill-opacity=\"1\" /><path clip-path=\"url(#clip690)\" d=\"M1331.38 266.034 Q1326.87 266.034 1325.12 267.067 Q1323.38 268.1 1323.38 270.591 Q1323.38 272.576 1324.68 273.751 Q1325.99 274.905 1328.24 274.905 Q1331.34 274.905 1333.21 272.718 Q1335.09 270.51 1335.09 266.864 L1335.09 266.034 L1331.38 266.034 M1338.82 264.495 L1338.82 277.437 L1335.09 277.437 L1335.09 273.994 Q1333.81 276.06 1331.91 277.052 Q1330.01 278.025 1327.25 278.025 Q1323.77 278.025 1321.7 276.08 Q1319.66 274.115 1319.66 270.834 Q1319.66 267.006 1322.21 265.062 Q1324.78 263.117 1329.86 263.117 L1335.09 263.117 L1335.09 262.753 Q1335.09 260.18 1333.39 258.783 Q1331.71 257.365 1328.65 257.365 Q1326.7 257.365 1324.86 257.831 Q1323.02 258.297 1321.32 259.228 L1321.32 255.785 Q1323.36 254.995 1325.29 254.61 Q1327.21 254.205 1329.03 254.205 Q1333.95 254.205 1336.39 256.757 Q1338.82 259.309 1338.82 264.495 Z\" fill=\"#000000\" fill-rule=\"nonzero\" fill-opacity=\"1\" /><path clip-path=\"url(#clip690)\" d=\"M1365.35 263.745 L1365.35 277.437 L1361.62 277.437 L1361.62 263.867 Q1361.62 260.646 1360.37 259.046 Q1359.11 257.446 1356.6 257.446 Q1353.58 257.446 1351.84 259.37 Q1350.1 261.294 1350.1 264.616 L1350.1 277.437 L1346.35 277.437 L1346.35 254.752 L1350.1 254.752 L1350.1 258.276 Q1351.43 256.231 1353.24 255.218 Q1355.06 254.205 1357.43 254.205 Q1361.34 254.205 1363.34 256.636 Q1365.35 259.046 1365.35 263.745 Z\" fill=\"#000000\" fill-rule=\"nonzero\" fill-opacity=\"1\" /><path clip-path=\"url(#clip690)\" d=\"M1376.47 248.311 L1376.47 254.752 L1384.15 254.752 L1384.15 257.649 L1376.47 257.649 L1376.47 269.963 Q1376.47 272.738 1377.22 273.528 Q1377.99 274.318 1380.32 274.318 L1384.15 274.318 L1384.15 277.437 L1380.32 277.437 Q1376 277.437 1374.36 275.837 Q1372.72 274.217 1372.72 269.963 L1372.72 257.649 L1369.99 257.649 L1369.99 254.752 L1372.72 254.752 L1372.72 248.311 L1376.47 248.311 Z\" fill=\"#000000\" fill-rule=\"nonzero\" fill-opacity=\"1\" /><path clip-path=\"url(#clip690)\" d=\"M367.724 784.88 L371.815 784.88 L371.815 811.677 L386.54 811.677 L386.54 815.12 L367.724 815.12 L367.724 784.88 Z\" fill=\"#000000\" fill-rule=\"nonzero\" fill-opacity=\"1\" /><path clip-path=\"url(#clip690)\" d=\"M400.982 803.717 Q396.465 803.717 394.723 804.75 Q392.981 805.783 392.981 808.274 Q392.981 810.259 394.277 811.434 Q395.594 812.588 397.842 812.588 Q400.941 812.588 402.805 810.401 Q404.688 808.193 404.688 804.547 L404.688 803.717 L400.982 803.717 M408.415 802.177 L408.415 815.12 L404.688 815.12 L404.688 811.677 Q403.412 813.743 401.508 814.735 Q399.604 815.707 396.85 815.707 Q393.366 815.707 391.3 813.763 Q389.254 811.798 389.254 808.517 Q389.254 804.689 391.806 802.744 Q394.379 800.8 399.463 800.8 L404.688 800.8 L404.688 800.435 Q404.688 797.863 402.987 796.466 Q401.306 795.048 398.247 795.048 Q396.303 795.048 394.46 795.514 Q392.617 795.979 390.915 796.911 L390.915 793.468 Q392.961 792.678 394.885 792.293 Q396.809 791.888 398.632 791.888 Q403.554 791.888 405.985 794.44 Q408.415 796.992 408.415 802.177 Z\" fill=\"#000000\" fill-rule=\"nonzero\" fill-opacity=\"1\" /><path clip-path=\"url(#clip690)\" d=\"M434.949 801.428 L434.949 815.12 L431.222 815.12 L431.222 801.549 Q431.222 798.329 429.966 796.729 Q428.71 795.129 426.199 795.129 Q423.181 795.129 421.439 797.053 Q419.697 798.977 419.697 802.299 L419.697 815.12 L415.95 815.12 L415.95 792.435 L419.697 792.435 L419.697 795.959 Q421.034 793.914 422.836 792.901 Q424.659 791.888 427.029 791.888 Q430.938 791.888 432.943 794.319 Q434.949 796.729 434.949 801.428 Z\" fill=\"#000000\" fill-rule=\"nonzero\" fill-opacity=\"1\" /><path clip-path=\"url(#clip690)\" d=\"M457.31 795.878 L457.31 783.604 L461.036 783.604 L461.036 815.12 L457.31 815.12 L457.31 811.717 Q456.135 813.743 454.332 814.735 Q452.55 815.707 450.038 815.707 Q445.926 815.707 443.334 812.426 Q440.762 809.145 440.762 803.798 Q440.762 798.451 443.334 795.169 Q445.926 791.888 450.038 791.888 Q452.55 791.888 454.332 792.881 Q456.135 793.853 457.31 795.878 M444.61 803.798 Q444.61 807.909 446.291 810.259 Q447.992 812.588 450.95 812.588 Q453.907 812.588 455.608 810.259 Q457.31 807.909 457.31 803.798 Q457.31 799.686 455.608 797.357 Q453.907 795.007 450.95 795.007 Q447.992 795.007 446.291 797.357 Q444.61 799.686 444.61 803.798 Z\" fill=\"#000000\" fill-rule=\"nonzero\" fill-opacity=\"1\" /><path clip-path=\"url(#clip690)\" d=\"M477.868 784.88 L503.449 784.88 L503.449 788.323 L492.714 788.323 L492.714 815.12 L488.603 815.12 L488.603 788.323 L477.868 788.323 L477.868 784.88 Z\" fill=\"#000000\" fill-rule=\"nonzero\" fill-opacity=\"1\" /><path clip-path=\"url(#clip690)\" d=\"M514.285 795.919 Q513.658 795.554 512.908 795.392 Q512.179 795.21 511.288 795.21 Q508.128 795.21 506.427 797.276 Q504.746 799.321 504.746 803.17 L504.746 815.12 L500.999 815.12 L500.999 792.435 L504.746 792.435 L504.746 795.959 Q505.92 793.893 507.804 792.901 Q509.688 791.888 512.382 791.888 Q512.766 791.888 513.232 791.949 Q513.698 791.989 514.265 792.091 L514.285 795.919 Z\" fill=\"#000000\" fill-rule=\"nonzero\" fill-opacity=\"1\" /><path clip-path=\"url(#clip690)\" d=\"M536.687 802.846 L536.687 804.669 L519.552 804.669 Q519.795 808.517 521.861 810.542 Q523.947 812.548 527.653 812.548 Q529.8 812.548 531.806 812.021 Q533.831 811.494 535.816 810.441 L535.816 813.965 Q533.811 814.816 531.704 815.262 Q529.598 815.707 527.431 815.707 Q522.002 815.707 518.822 812.548 Q515.663 809.388 515.663 804 Q515.663 798.43 518.66 795.169 Q521.678 791.888 526.783 791.888 Q531.36 791.888 534.013 794.845 Q536.687 797.782 536.687 802.846 M532.96 801.752 Q532.92 798.694 531.239 796.871 Q529.578 795.048 526.823 795.048 Q523.704 795.048 521.82 796.81 Q519.957 798.572 519.673 801.772 L532.96 801.752 Z\" fill=\"#000000\" fill-rule=\"nonzero\" fill-opacity=\"1\" /><path clip-path=\"url(#clip690)\" d=\"M553.113 803.717 Q548.597 803.717 546.855 804.75 Q545.113 805.783 545.113 808.274 Q545.113 810.259 546.409 811.434 Q547.726 812.588 549.974 812.588 Q553.073 812.588 554.936 810.401 Q556.82 808.193 556.82 804.547 L556.82 803.717 L553.113 803.717 M560.547 802.177 L560.547 815.12 L556.82 815.12 L556.82 811.677 Q555.544 813.743 553.64 814.735 Q551.736 815.707 548.981 815.707 Q545.498 815.707 543.432 813.763 Q541.386 811.798 541.386 808.517 Q541.386 804.689 543.938 802.744 Q546.51 800.8 551.594 800.8 L556.82 800.8 L556.82 800.435 Q556.82 797.863 555.119 796.466 Q553.437 795.048 550.379 795.048 Q548.435 795.048 546.591 795.514 Q544.748 795.979 543.047 796.911 L543.047 793.468 Q545.093 792.678 547.017 792.293 Q548.941 791.888 550.764 791.888 Q555.686 791.888 558.116 794.44 Q560.547 796.992 560.547 802.177 Z\" fill=\"#000000\" fill-rule=\"nonzero\" fill-opacity=\"1\" /><path clip-path=\"url(#clip690)\" d=\"M571.91 785.994 L571.91 792.435 L579.586 792.435 L579.586 795.331 L571.91 795.331 L571.91 807.646 Q571.91 810.421 572.659 811.211 Q573.429 812.001 575.758 812.001 L579.586 812.001 L579.586 815.12 L575.758 815.12 Q571.444 815.12 569.803 813.52 Q568.163 811.9 568.163 807.646 L568.163 795.331 L565.428 795.331 L565.428 792.435 L568.163 792.435 L568.163 785.994 L571.91 785.994 Z\" fill=\"#000000\" fill-rule=\"nonzero\" fill-opacity=\"1\" /><path clip-path=\"url(#clip690)\" d=\"M602.15 796.79 Q603.547 794.278 605.492 793.083 Q607.436 791.888 610.069 791.888 Q613.614 791.888 615.538 794.379 Q617.462 796.85 617.462 801.428 L617.462 815.12 L613.715 815.12 L613.715 801.549 Q613.715 798.288 612.56 796.709 Q611.406 795.129 609.036 795.129 Q606.14 795.129 604.459 797.053 Q602.777 798.977 602.777 802.299 L602.777 815.12 L599.03 815.12 L599.03 801.549 Q599.03 798.268 597.876 796.709 Q596.721 795.129 594.311 795.129 Q591.455 795.129 589.774 797.073 Q588.093 798.997 588.093 802.299 L588.093 815.12 L584.346 815.12 L584.346 792.435 L588.093 792.435 L588.093 795.959 Q589.369 793.873 591.151 792.881 Q592.934 791.888 595.385 791.888 Q597.856 791.888 599.577 793.144 Q601.319 794.4 602.15 796.79 Z\" fill=\"#000000\" fill-rule=\"nonzero\" fill-opacity=\"1\" /><path clip-path=\"url(#clip690)\" d=\"M644.299 802.846 L644.299 804.669 L627.164 804.669 Q627.407 808.517 629.473 810.542 Q631.559 812.548 635.266 812.548 Q637.413 812.548 639.418 812.021 Q641.443 811.494 643.428 810.441 L643.428 813.965 Q641.423 814.816 639.317 815.262 Q637.21 815.707 635.043 815.707 Q629.615 815.707 626.435 812.548 Q623.275 809.388 623.275 804 Q623.275 798.43 626.273 795.169 Q629.291 791.888 634.395 791.888 Q638.972 791.888 641.626 794.845 Q644.299 797.782 644.299 802.846 M640.572 801.752 Q640.532 798.694 638.851 796.871 Q637.19 795.048 634.435 795.048 Q631.316 795.048 629.432 796.81 Q627.569 798.572 627.285 801.772 L640.572 801.752 Z\" fill=\"#000000\" fill-rule=\"nonzero\" fill-opacity=\"1\" /><path clip-path=\"url(#clip690)\" d=\"M669.273 801.428 L669.273 815.12 L665.546 815.12 L665.546 801.549 Q665.546 798.329 664.29 796.729 Q663.035 795.129 660.523 795.129 Q657.505 795.129 655.763 797.053 Q654.021 798.977 654.021 802.299 L654.021 815.12 L650.274 815.12 L650.274 792.435 L654.021 792.435 L654.021 795.959 Q655.358 793.914 657.161 792.901 Q658.984 791.888 661.354 791.888 Q665.263 791.888 667.268 794.319 Q669.273 796.729 669.273 801.428 Z\" fill=\"#000000\" fill-rule=\"nonzero\" fill-opacity=\"1\" /><path clip-path=\"url(#clip690)\" d=\"M680.393 785.994 L680.393 792.435 L688.069 792.435 L688.069 795.331 L680.393 795.331 L680.393 807.646 Q680.393 810.421 681.142 811.211 Q681.912 812.001 684.241 812.001 L688.069 812.001 L688.069 815.12 L684.241 815.12 Q679.927 815.12 678.286 813.52 Q676.646 811.9 676.646 807.646 L676.646 795.331 L673.911 795.331 L673.911 792.435 L676.646 792.435 L676.646 785.994 L680.393 785.994 Z\" fill=\"#000000\" fill-rule=\"nonzero\" fill-opacity=\"1\" /><path clip-path=\"url(#clip690)\" d=\"M1053.33 787.209 L1053.33 791.523 Q1051.26 789.599 1048.91 788.647 Q1046.58 787.695 1043.95 787.695 Q1038.76 787.695 1036.01 790.875 Q1033.25 794.035 1033.25 800.03 Q1033.25 806.005 1036.01 809.185 Q1038.76 812.345 1043.95 812.345 Q1046.58 812.345 1048.91 811.393 Q1051.26 810.441 1053.33 808.517 L1053.33 812.791 Q1051.18 814.249 1048.77 814.978 Q1046.38 815.707 1043.71 815.707 Q1036.84 815.707 1032.89 811.515 Q1028.94 807.302 1028.94 800.03 Q1028.94 792.739 1032.89 788.546 Q1036.84 784.333 1043.71 784.333 Q1046.42 784.333 1048.81 785.062 Q1051.22 785.771 1053.33 787.209 Z\" fill=\"#000000\" fill-rule=\"nonzero\" fill-opacity=\"1\" /><path clip-path=\"url(#clip690)\" d=\"M1078.34 801.428 L1078.34 815.12 L1074.61 815.12 L1074.61 801.549 Q1074.61 798.329 1073.36 796.729 Q1072.1 795.129 1069.59 795.129 Q1066.57 795.129 1064.83 797.053 Q1063.09 798.977 1063.09 802.299 L1063.09 815.12 L1059.34 815.12 L1059.34 783.604 L1063.09 783.604 L1063.09 795.959 Q1064.43 793.914 1066.23 792.901 Q1068.05 791.888 1070.42 791.888 Q1074.33 791.888 1076.34 794.319 Q1078.34 796.729 1078.34 801.428 Z\" fill=\"#000000\" fill-rule=\"nonzero\" fill-opacity=\"1\" /><path clip-path=\"url(#clip690)\" d=\"M1105.18 802.846 L1105.18 804.669 L1088.04 804.669 Q1088.29 808.517 1090.35 810.542 Q1092.44 812.548 1096.14 812.548 Q1098.29 812.548 1100.3 812.021 Q1102.32 811.494 1104.31 810.441 L1104.31 813.965 Q1102.3 814.816 1100.2 815.262 Q1098.09 815.707 1095.92 815.707 Q1090.49 815.707 1087.31 812.548 Q1084.15 809.388 1084.15 804 Q1084.15 798.43 1087.15 795.169 Q1090.17 791.888 1095.27 791.888 Q1099.85 791.888 1102.5 794.845 Q1105.18 797.782 1105.18 802.846 M1101.45 801.752 Q1101.41 798.694 1099.73 796.871 Q1098.07 795.048 1095.31 795.048 Q1092.2 795.048 1090.31 796.81 Q1088.45 798.572 1088.16 801.772 L1101.45 801.752 Z\" fill=\"#000000\" fill-rule=\"nonzero\" fill-opacity=\"1\" /><path clip-path=\"url(#clip690)\" d=\"M1128.96 796.79 Q1130.35 794.278 1132.3 793.083 Q1134.24 791.888 1136.88 791.888 Q1140.42 791.888 1142.35 794.379 Q1144.27 796.85 1144.27 801.428 L1144.27 815.12 L1140.52 815.12 L1140.52 801.549 Q1140.52 798.288 1139.37 796.709 Q1138.21 795.129 1135.84 795.129 Q1132.95 795.129 1131.27 797.053 Q1129.59 798.977 1129.59 802.299 L1129.59 815.12 L1125.84 815.12 L1125.84 801.549 Q1125.84 798.268 1124.68 796.709 Q1123.53 795.129 1121.12 795.129 Q1118.26 795.129 1116.58 797.073 Q1114.9 798.997 1114.9 802.299 L1114.9 815.12 L1111.15 815.12 L1111.15 792.435 L1114.9 792.435 L1114.9 795.959 Q1116.18 793.873 1117.96 792.881 Q1119.74 791.888 1122.19 791.888 Q1124.66 791.888 1126.38 793.144 Q1128.13 794.4 1128.96 796.79 Z\" fill=\"#000000\" fill-rule=\"nonzero\" fill-opacity=\"1\" /><path clip-path=\"url(#clip690)\" d=\"M1160.86 784.88 L1186.44 784.88 L1186.44 788.323 L1175.7 788.323 L1175.7 815.12 L1171.59 815.12 L1171.59 788.323 L1160.86 788.323 L1160.86 784.88 Z\" fill=\"#000000\" fill-rule=\"nonzero\" fill-opacity=\"1\" /><path clip-path=\"url(#clip690)\" d=\"M1197.28 795.919 Q1196.65 795.554 1195.9 795.392 Q1195.17 795.21 1194.28 795.21 Q1191.12 795.21 1189.42 797.276 Q1187.74 799.321 1187.74 803.17 L1187.74 815.12 L1183.99 815.12 L1183.99 792.435 L1187.74 792.435 L1187.74 795.959 Q1188.91 793.893 1190.79 792.901 Q1192.68 791.888 1195.37 791.888 Q1195.76 791.888 1196.22 791.949 Q1196.69 791.989 1197.26 792.091 L1197.28 795.919 Z\" fill=\"#000000\" fill-rule=\"nonzero\" fill-opacity=\"1\" /><path clip-path=\"url(#clip690)\" d=\"M1219.68 802.846 L1219.68 804.669 L1202.54 804.669 Q1202.78 808.517 1204.85 810.542 Q1206.94 812.548 1210.64 812.548 Q1212.79 812.548 1214.8 812.021 Q1216.82 811.494 1218.81 810.441 L1218.81 813.965 Q1216.8 814.816 1214.69 815.262 Q1212.59 815.707 1210.42 815.707 Q1204.99 815.707 1201.81 812.548 Q1198.65 809.388 1198.65 804 Q1198.65 798.43 1201.65 795.169 Q1204.67 791.888 1209.77 791.888 Q1214.35 791.888 1217 794.845 Q1219.68 797.782 1219.68 802.846 M1215.95 801.752 Q1215.91 798.694 1214.23 796.871 Q1212.57 795.048 1209.81 795.048 Q1206.69 795.048 1204.81 796.81 Q1202.95 798.572 1202.66 801.772 L1215.95 801.752 Z\" fill=\"#000000\" fill-rule=\"nonzero\" fill-opacity=\"1\" /><path clip-path=\"url(#clip690)\" d=\"M1236.1 803.717 Q1231.59 803.717 1229.85 804.75 Q1228.1 805.783 1228.1 808.274 Q1228.1 810.259 1229.4 811.434 Q1230.72 812.588 1232.96 812.588 Q1236.06 812.588 1237.93 810.401 Q1239.81 808.193 1239.81 804.547 L1239.81 803.717 L1236.1 803.717 M1243.54 802.177 L1243.54 815.12 L1239.81 815.12 L1239.81 811.677 Q1238.53 813.743 1236.63 814.735 Q1234.73 815.707 1231.97 815.707 Q1228.49 815.707 1226.42 813.763 Q1224.38 811.798 1224.38 808.517 Q1224.38 804.689 1226.93 802.744 Q1229.5 800.8 1234.58 800.8 L1239.81 800.8 L1239.81 800.435 Q1239.81 797.863 1238.11 796.466 Q1236.43 795.048 1233.37 795.048 Q1231.42 795.048 1229.58 795.514 Q1227.74 795.979 1226.04 796.911 L1226.04 793.468 Q1228.08 792.678 1230.01 792.293 Q1231.93 791.888 1233.75 791.888 Q1238.68 791.888 1241.11 794.44 Q1243.54 796.992 1243.54 802.177 Z\" fill=\"#000000\" fill-rule=\"nonzero\" fill-opacity=\"1\" /><path clip-path=\"url(#clip690)\" d=\"M1254.9 785.994 L1254.9 792.435 L1262.58 792.435 L1262.58 795.331 L1254.9 795.331 L1254.9 807.646 Q1254.9 810.421 1255.65 811.211 Q1256.42 812.001 1258.75 812.001 L1262.58 812.001 L1262.58 815.12 L1258.75 815.12 Q1254.43 815.12 1252.79 813.52 Q1251.15 811.9 1251.15 807.646 L1251.15 795.331 L1248.42 795.331 L1248.42 792.435 L1251.15 792.435 L1251.15 785.994 L1254.9 785.994 Z\" fill=\"#000000\" fill-rule=\"nonzero\" fill-opacity=\"1\" /><path clip-path=\"url(#clip690)\" d=\"M1285.14 796.79 Q1286.54 794.278 1288.48 793.083 Q1290.43 791.888 1293.06 791.888 Q1296.6 791.888 1298.53 794.379 Q1300.45 796.85 1300.45 801.428 L1300.45 815.12 L1296.71 815.12 L1296.71 801.549 Q1296.71 798.288 1295.55 796.709 Q1294.4 795.129 1292.03 795.129 Q1289.13 795.129 1287.45 797.053 Q1285.77 798.977 1285.77 802.299 L1285.77 815.12 L1282.02 815.12 L1282.02 801.549 Q1282.02 798.268 1280.87 796.709 Q1279.71 795.129 1277.3 795.129 Q1274.45 795.129 1272.76 797.073 Q1271.08 798.997 1271.08 802.299 L1271.08 815.12 L1267.34 815.12 L1267.34 792.435 L1271.08 792.435 L1271.08 795.959 Q1272.36 793.873 1274.14 792.881 Q1275.92 791.888 1278.37 791.888 Q1280.85 791.888 1282.57 793.144 Q1284.31 794.4 1285.14 796.79 Z\" fill=\"#000000\" fill-rule=\"nonzero\" fill-opacity=\"1\" /><path clip-path=\"url(#clip690)\" d=\"M1327.29 802.846 L1327.29 804.669 L1310.15 804.669 Q1310.4 808.517 1312.46 810.542 Q1314.55 812.548 1318.26 812.548 Q1320.4 812.548 1322.41 812.021 Q1324.43 811.494 1326.42 810.441 L1326.42 813.965 Q1324.41 814.816 1322.31 815.262 Q1320.2 815.707 1318.03 815.707 Q1312.61 815.707 1309.43 812.548 Q1306.27 809.388 1306.27 804 Q1306.27 798.43 1309.26 795.169 Q1312.28 791.888 1317.39 791.888 Q1321.96 791.888 1324.62 794.845 Q1327.29 797.782 1327.29 802.846 M1323.56 801.752 Q1323.52 798.694 1321.84 796.871 Q1320.18 795.048 1317.43 795.048 Q1314.31 795.048 1312.42 796.81 Q1310.56 798.572 1310.28 801.772 L1323.56 801.752 Z\" fill=\"#000000\" fill-rule=\"nonzero\" fill-opacity=\"1\" /><path clip-path=\"url(#clip690)\" d=\"M1352.26 801.428 L1352.26 815.12 L1348.54 815.12 L1348.54 801.549 Q1348.54 798.329 1347.28 796.729 Q1346.02 795.129 1343.51 795.129 Q1340.5 795.129 1338.75 797.053 Q1337.01 798.977 1337.01 802.299 L1337.01 815.12 L1333.26 815.12 L1333.26 792.435 L1337.01 792.435 L1337.01 795.959 Q1338.35 793.914 1340.15 792.901 Q1341.97 791.888 1344.34 791.888 Q1348.25 791.888 1350.26 794.319 Q1352.26 796.729 1352.26 801.428 Z\" fill=\"#000000\" fill-rule=\"nonzero\" fill-opacity=\"1\" /><path clip-path=\"url(#clip690)\" d=\"M1363.38 785.994 L1363.38 792.435 L1371.06 792.435 L1371.06 795.331 L1363.38 795.331 L1363.38 807.646 Q1363.38 810.421 1364.13 811.211 Q1364.9 812.001 1367.23 812.001 L1371.06 812.001 L1371.06 815.12 L1367.23 815.12 Q1362.92 815.12 1361.28 813.52 Q1359.64 811.9 1359.64 807.646 L1359.64 795.331 L1356.9 795.331 L1356.9 792.435 L1359.64 792.435 L1359.64 785.994 L1363.38 785.994 Z\" fill=\"#000000\" fill-rule=\"nonzero\" fill-opacity=\"1\" /><path clip-path=\"url(#clip690)\" d=\"M1734.97 1325.93 L1734.97 1337.29 L1740.11 1337.29 Q1742.97 1337.29 1744.53 1335.81 Q1746.09 1334.33 1746.09 1331.6 Q1746.09 1328.88 1744.53 1327.4 Q1742.97 1325.93 1740.11 1325.93 L1734.97 1325.93 M1730.88 1322.56 L1740.11 1322.56 Q1745.2 1322.56 1747.79 1324.87 Q1750.4 1327.16 1750.4 1331.6 Q1750.4 1336.07 1747.79 1338.36 Q1745.2 1340.65 1740.11 1340.65 L1734.97 1340.65 L1734.97 1352.8 L1730.88 1352.8 L1730.88 1322.56 Z\" fill=\"#000000\" fill-rule=\"nonzero\" fill-opacity=\"1\" /><path clip-path=\"url(#clip690)\" d=\"M1768.15 1333.6 Q1767.52 1333.24 1766.77 1333.07 Q1766.04 1332.89 1765.15 1332.89 Q1761.99 1332.89 1760.29 1334.96 Q1758.61 1337 1758.61 1340.85 L1758.61 1352.8 L1754.86 1352.8 L1754.86 1330.12 L1758.61 1330.12 L1758.61 1333.64 Q1759.78 1331.58 1761.67 1330.58 Q1763.55 1329.57 1766.24 1329.57 Q1766.63 1329.57 1767.09 1329.63 Q1767.56 1329.67 1768.13 1329.77 L1768.15 1333.6 Z\" fill=\"#000000\" fill-rule=\"nonzero\" fill-opacity=\"1\" /><path clip-path=\"url(#clip690)\" d=\"M1772.06 1330.12 L1775.78 1330.12 L1775.78 1352.8 L1772.06 1352.8 L1772.06 1330.12 M1772.06 1321.29 L1775.78 1321.29 L1775.78 1326.01 L1772.06 1326.01 L1772.06 1321.29 Z\" fill=\"#000000\" fill-rule=\"nonzero\" fill-opacity=\"1\" /><path clip-path=\"url(#clip690)\" d=\"M1798.04 1330.79 L1798.04 1334.31 Q1796.46 1333.5 1794.76 1333.1 Q1793.06 1332.69 1791.24 1332.69 Q1788.46 1332.69 1787.06 1333.54 Q1785.69 1334.39 1785.69 1336.09 Q1785.69 1337.39 1786.68 1338.14 Q1787.67 1338.87 1790.67 1339.54 L1791.95 1339.82 Q1795.92 1340.67 1797.58 1342.23 Q1799.26 1343.77 1799.26 1346.54 Q1799.26 1349.7 1796.75 1351.55 Q1794.26 1353.39 1789.88 1353.39 Q1788.06 1353.39 1786.07 1353.03 Q1784.11 1352.68 1781.92 1351.97 L1781.92 1348.12 Q1783.99 1349.2 1785.99 1349.74 Q1788 1350.27 1789.96 1350.27 Q1792.59 1350.27 1794.01 1349.38 Q1795.43 1348.47 1795.43 1346.83 Q1795.43 1345.31 1794.4 1344.5 Q1793.38 1343.69 1789.92 1342.94 L1788.62 1342.64 Q1785.16 1341.91 1783.62 1340.41 Q1782.08 1338.89 1782.08 1336.25 Q1782.08 1333.05 1784.35 1331.31 Q1786.62 1329.57 1790.79 1329.57 Q1792.86 1329.57 1794.68 1329.87 Q1796.5 1330.18 1798.04 1330.79 Z\" fill=\"#000000\" fill-rule=\"nonzero\" fill-opacity=\"1\" /><path clip-path=\"url(#clip690)\" d=\"M1808.88 1323.68 L1808.88 1330.12 L1816.56 1330.12 L1816.56 1333.01 L1808.88 1333.01 L1808.88 1345.33 Q1808.88 1348.1 1809.63 1348.89 Q1810.4 1349.68 1812.73 1349.68 L1816.56 1349.68 L1816.56 1352.8 L1812.73 1352.8 Q1808.41 1352.8 1806.77 1351.2 Q1805.13 1349.58 1805.13 1345.33 L1805.13 1333.01 L1802.4 1333.01 L1802.4 1330.12 L1805.13 1330.12 L1805.13 1323.68 L1808.88 1323.68 Z\" fill=\"#000000\" fill-rule=\"nonzero\" fill-opacity=\"1\" /><path clip-path=\"url(#clip690)\" d=\"M1821.46 1330.12 L1825.18 1330.12 L1825.18 1352.8 L1821.46 1352.8 L1821.46 1330.12 M1821.46 1321.29 L1825.18 1321.29 L1825.18 1326.01 L1821.46 1326.01 L1821.46 1321.29 Z\" fill=\"#000000\" fill-rule=\"nonzero\" fill-opacity=\"1\" /><path clip-path=\"url(#clip690)\" d=\"M1851.84 1339.11 L1851.84 1352.8 L1848.11 1352.8 L1848.11 1339.23 Q1848.11 1336.01 1846.86 1334.41 Q1845.6 1332.81 1843.09 1332.81 Q1840.07 1332.81 1838.33 1334.74 Q1836.59 1336.66 1836.59 1339.98 L1836.59 1352.8 L1832.84 1352.8 L1832.84 1330.12 L1836.59 1330.12 L1836.59 1333.64 Q1837.92 1331.6 1839.73 1330.58 Q1841.55 1329.57 1843.92 1329.57 Q1847.83 1329.57 1849.83 1332 Q1851.84 1334.41 1851.84 1339.11 Z\" fill=\"#000000\" fill-rule=\"nonzero\" fill-opacity=\"1\" /><path clip-path=\"url(#clip690)\" d=\"M1878.68 1340.53 L1878.68 1342.35 L1861.54 1342.35 Q1861.78 1346.2 1863.85 1348.23 Q1865.94 1350.23 1869.64 1350.23 Q1871.79 1350.23 1873.79 1349.7 Q1875.82 1349.18 1877.81 1348.12 L1877.81 1351.65 Q1875.8 1352.5 1873.69 1352.94 Q1871.59 1353.39 1869.42 1353.39 Q1863.99 1353.39 1860.81 1350.23 Q1857.65 1347.07 1857.65 1341.68 Q1857.65 1336.11 1860.65 1332.85 Q1863.67 1329.57 1868.77 1329.57 Q1873.35 1329.57 1876 1332.53 Q1878.68 1335.46 1878.68 1340.53 M1874.95 1339.43 Q1874.91 1336.38 1873.23 1334.55 Q1871.57 1332.73 1868.81 1332.73 Q1865.69 1332.73 1863.81 1334.49 Q1861.95 1336.25 1861.66 1339.46 L1874.95 1339.43 Z\" fill=\"#000000\" fill-rule=\"nonzero\" fill-opacity=\"1\" /><path clip-path=\"url(#clip690)\" d=\"M1902.23 1338.36 L1902.23 1349.44 L1908.79 1349.44 Q1912.1 1349.44 1913.68 1348.08 Q1915.28 1346.71 1915.28 1343.89 Q1915.28 1341.06 1913.68 1339.72 Q1912.1 1338.36 1908.79 1338.36 L1902.23 1338.36 M1902.23 1325.93 L1902.23 1335.04 L1908.29 1335.04 Q1911.29 1335.04 1912.74 1333.93 Q1914.22 1332.79 1914.22 1330.48 Q1914.22 1328.19 1912.74 1327.06 Q1911.29 1325.93 1908.29 1325.93 L1902.23 1325.93 M1898.14 1322.56 L1908.59 1322.56 Q1913.27 1322.56 1915.8 1324.51 Q1918.33 1326.45 1918.33 1330.04 Q1918.33 1332.81 1917.04 1334.45 Q1915.74 1336.09 1913.23 1336.5 Q1916.25 1337.15 1917.91 1339.21 Q1919.59 1341.26 1919.59 1344.34 Q1919.59 1348.39 1916.84 1350.6 Q1914.08 1352.8 1909 1352.8 L1898.14 1352.8 L1898.14 1322.56 Z\" fill=\"#000000\" fill-rule=\"nonzero\" fill-opacity=\"1\" /><path clip-path=\"url(#clip690)\" d=\"M1939.58 1333.6 Q1938.95 1333.24 1938.2 1333.07 Q1937.47 1332.89 1936.58 1332.89 Q1933.42 1332.89 1931.72 1334.96 Q1930.04 1337 1930.04 1340.85 L1930.04 1352.8 L1926.29 1352.8 L1926.29 1330.12 L1930.04 1330.12 L1930.04 1333.64 Q1931.22 1331.58 1933.1 1330.58 Q1934.98 1329.57 1937.68 1329.57 Q1938.06 1329.57 1938.53 1329.63 Q1938.99 1329.67 1939.56 1329.77 L1939.58 1333.6 Z\" fill=\"#000000\" fill-rule=\"nonzero\" fill-opacity=\"1\" /><path clip-path=\"url(#clip690)\" d=\"M1951.37 1332.73 Q1948.37 1332.73 1946.63 1335.08 Q1944.89 1337.41 1944.89 1341.48 Q1944.89 1345.55 1946.61 1347.9 Q1948.35 1350.23 1951.37 1350.23 Q1954.35 1350.23 1956.09 1347.88 Q1957.83 1345.53 1957.83 1341.48 Q1957.83 1337.45 1956.09 1335.1 Q1954.35 1332.73 1951.37 1332.73 M1951.37 1329.57 Q1956.23 1329.57 1959.01 1332.73 Q1961.78 1335.89 1961.78 1341.48 Q1961.78 1347.05 1959.01 1350.23 Q1956.23 1353.39 1951.37 1353.39 Q1946.49 1353.39 1943.71 1350.23 Q1940.96 1347.05 1940.96 1341.48 Q1940.96 1335.89 1943.71 1332.73 Q1946.49 1329.57 1951.37 1329.57 Z\" fill=\"#000000\" fill-rule=\"nonzero\" fill-opacity=\"1\" /><path clip-path=\"url(#clip690)\" d=\"M1976.75 1332.73 Q1973.75 1332.73 1972.01 1335.08 Q1970.27 1337.41 1970.27 1341.48 Q1970.27 1345.55 1971.99 1347.9 Q1973.73 1350.23 1976.75 1350.23 Q1979.73 1350.23 1981.47 1347.88 Q1983.21 1345.53 1983.21 1341.48 Q1983.21 1337.45 1981.47 1335.1 Q1979.73 1332.73 1976.75 1332.73 M1976.75 1329.57 Q1981.61 1329.57 1984.38 1332.73 Q1987.16 1335.89 1987.16 1341.48 Q1987.16 1347.05 1984.38 1350.23 Q1981.61 1353.39 1976.75 1353.39 Q1971.87 1353.39 1969.09 1350.23 Q1966.34 1347.05 1966.34 1341.48 Q1966.34 1335.89 1969.09 1332.73 Q1971.87 1329.57 1976.75 1329.57 Z\" fill=\"#000000\" fill-rule=\"nonzero\" fill-opacity=\"1\" /><path clip-path=\"url(#clip690)\" d=\"M1993.2 1321.29 L1996.94 1321.29 L1996.94 1339.9 L2008.06 1330.12 L2012.82 1330.12 L2000.79 1340.73 L2013.33 1352.8 L2008.47 1352.8 L1996.94 1341.72 L1996.94 1352.8 L1993.2 1352.8 L1993.2 1321.29 Z\" fill=\"#000000\" fill-rule=\"nonzero\" fill-opacity=\"1\" /></svg>\n"
            ],
            "text/html": [
              "<?xml version=\"1.0\" encoding=\"utf-8\"?>\n",
              "<svg xmlns=\"http://www.w3.org/2000/svg\" xmlns:xlink=\"http://www.w3.org/1999/xlink\" width=\"600\" height=\"400\" viewBox=\"0 0 2400 1600\">\n",
              "<defs>\n",
              "  <clipPath id=\"clip720\">\n",
              "    <rect x=\"0\" y=\"0\" width=\"2400\" height=\"1600\"/>\n",
              "  </clipPath>\n",
              "</defs>\n",
              "<path clip-path=\"url(#clip720)\" d=\"M0 1600 L2400 1600 L2400 0 L0 0  Z\" fill=\"#ffffff\" fill-rule=\"evenodd\" fill-opacity=\"1\"/>\n",
              "<defs>\n",
              "  <clipPath id=\"clip721\">\n",
              "    <rect x=\"480\" y=\"0\" width=\"1681\" height=\"1600\"/>\n",
              "  </clipPath>\n",
              "</defs>\n",
              "<path clip-path=\"url(#clip720)\" d=\"M259.055 1552.76 L2140.94 1552.76 L2140.94 47.2441 L259.055 47.2441  Z\" fill=\"#ffffff\" fill-rule=\"evenodd\" fill-opacity=\"1\"/>\n",
              "<defs>\n",
              "  <clipPath id=\"clip722\">\n",
              "    <rect x=\"259\" y=\"47\" width=\"1883\" height=\"1507\"/>\n",
              "  </clipPath>\n",
              "</defs>\n",
              "<polyline clip-path=\"url(#clip722)\" style=\"stroke:#000000; stroke-linecap:round; stroke-linejoin:round; stroke-width:4; stroke-opacity:1; fill:none\" points=\"1334.42,262.317 1318.22,275.046 1302.02,287.766 1285.83,300.469 1269.64,313.146 1253.48,325.79 1237.33,338.392 1221.2,350.944 1205.09,363.436 1189.02,375.861 1172.97,388.21 1156.96,400.474 1140.99,412.646 1125.07,424.716 1109.18,436.677 1093.35,448.52 1077.57,460.237 1061.85,471.818 1046.18,483.256 1030.58,494.543 1015.05,505.669 999.586,516.626 984.197,527.407 968.885,538.002 953.655,548.402 938.509,558.601 923.447,568.598 908.467,578.401 893.564,588.018 878.735,597.459 863.976,606.73 849.284,615.842 834.656,624.801 820.088,633.617 805.576,642.299 791.117,650.853 776.707,659.29 762.343,667.617 748.021,675.843 733.738,683.976 719.49,692.025 705.274,699.998 691.087,707.903 676.923,715.75 662.781,723.546 648.657,731.299 634.547,739.019 620.447,746.714 606.354,754.392 592.265,762.061 \"/>\n",
              "<polyline clip-path=\"url(#clip722)\" style=\"stroke:#000000; stroke-linecap:round; stroke-linejoin:round; stroke-width:4; stroke-opacity:1; fill:none\" points=\"632.49,760.659 592.265,762.061 615.278,729.04 \"/>\n",
              "<polyline clip-path=\"url(#clip722)\" style=\"stroke:#000000; stroke-linecap:round; stroke-linejoin:round; stroke-width:4; stroke-opacity:1; fill:none\" points=\"592.265,762.061 606.354,754.392 \"/>\n",
              "<polyline clip-path=\"url(#clip722)\" style=\"stroke:#000000; stroke-linecap:round; stroke-linejoin:round; stroke-width:4; stroke-opacity:1; fill:none\" points=\"1334.42,262.317 1333.14,274.076 1331.85,285.829 1330.55,297.572 1329.24,309.3 1327.92,321.006 1326.57,332.687 1325.21,344.336 1323.81,355.949 1322.38,367.521 1320.92,379.045 1319.42,390.518 1317.88,401.933 1316.28,413.286 1314.64,424.572 1312.94,435.784 1311.18,446.919 1309.36,457.97 1307.47,468.933 1305.51,479.803 1303.48,490.573 1301.37,501.24 1299.17,511.797 1296.89,522.24 1294.51,532.564 1292.05,542.763 1289.48,552.837 1286.83,562.792 1284.09,572.632 1281.27,582.363 1278.37,591.99 1275.39,601.518 1272.34,610.953 1269.23,620.299 1266.05,629.562 1262.81,638.747 1259.52,647.86 1256.18,656.904 1252.79,665.887 1249.35,674.812 1245.88,683.685 1242.37,692.511 1238.83,701.296 1235.26,710.044 1231.67,718.762 1228.06,727.453 1224.43,736.123 1220.79,744.778 1217.14,753.422 1213.49,762.061 \"/>\n",
              "<polyline clip-path=\"url(#clip722)\" style=\"stroke:#000000; stroke-linecap:round; stroke-linejoin:round; stroke-width:4; stroke-opacity:1; fill:none\" points=\"1244.09,735.908 1213.49,762.061 1210.93,721.894 \"/>\n",
              "<polyline clip-path=\"url(#clip722)\" style=\"stroke:#000000; stroke-linecap:round; stroke-linejoin:round; stroke-width:4; stroke-opacity:1; fill:none\" points=\"1213.49,762.061 1217.14,753.422 \"/>\n",
              "<polyline clip-path=\"url(#clip722)\" style=\"stroke:#000000; stroke-linecap:round; stroke-linejoin:round; stroke-width:4; stroke-opacity:1; fill:none\" points=\"1334.42,262.317 1344.89,286.727 1355.34,311.117 1365.79,335.467 1376.23,359.758 1386.65,383.97 1397.04,408.083 1407.41,432.078 1417.74,455.935 1428.03,479.633 1438.28,503.154 1448.49,526.477 1458.64,549.583 1468.73,572.452 1478.77,595.064 1488.74,617.4 1498.63,639.44 1508.45,661.163 1518.19,682.551 1527.85,703.583 1537.41,724.24 1546.88,744.502 1556.25,764.349 1565.52,783.762 1574.68,802.72 1583.72,821.205 1592.66,839.218 1601.48,856.775 1610.2,873.899 1618.82,890.607 1627.34,906.921 1635.77,922.859 1644.12,938.442 1652.39,953.689 1660.58,968.62 1668.71,983.254 1676.76,997.613 1684.76,1011.71 1692.69,1025.58 1700.58,1039.23 1708.42,1052.68 1716.21,1065.95 1723.97,1079.06 1731.7,1092.04 1739.39,1104.89 1747.06,1117.65 1754.72,1130.33 1762.36,1142.95 1769.99,1155.53 1777.61,1168.09 \"/>\n",
              "<polyline clip-path=\"url(#clip722)\" style=\"stroke:#000000; stroke-linecap:round; stroke-linejoin:round; stroke-width:4; stroke-opacity:1; fill:none\" points=\"1774.32,1127.98 1777.61,1168.09 1743.54,1146.66 \"/>\n",
              "<polyline clip-path=\"url(#clip722)\" style=\"stroke:#000000; stroke-linecap:round; stroke-linejoin:round; stroke-width:4; stroke-opacity:1; fill:none\" points=\"1777.61,1168.09 1769.99,1155.53 \"/>\n",
              "<polyline clip-path=\"url(#clip722)\" style=\"stroke:#000000; stroke-linecap:round; stroke-linejoin:round; stroke-width:4; stroke-opacity:1; fill:none\" points=\"527.897,800 556.372,813.092 584.833,826.172 613.265,839.231 641.653,852.257 669.983,865.238 698.241,878.165 726.411,891.025 754.48,903.809 782.433,916.504 810.255,929.1 837.931,941.587 865.449,953.951 892.791,966.184 919.946,978.274 946.896,990.209 973.629,1001.98 1000.13,1013.57 1026.38,1024.98 1052.38,1036.19 1078.09,1047.19 1103.52,1057.97 1128.64,1068.52 1153.44,1078.82 1177.91,1088.87 1202.03,1098.66 1225.8,1108.19 1249.24,1117.46 1272.36,1126.49 1295.18,1135.29 1317.7,1143.87 1339.95,1152.23 1361.93,1160.4 1383.67,1168.39 1405.18,1176.19 1426.47,1183.84 1447.56,1191.32 1468.45,1198.67 1489.18,1205.88 1509.74,1212.97 1530.16,1219.95 1550.45,1226.84 1570.62,1233.63 1590.69,1240.35 1610.67,1247 1630.58,1253.59 1650.43,1260.15 1670.24,1266.66 1690.02,1273.16 1709.79,1279.65 \"/>\n",
              "<polyline clip-path=\"url(#clip722)\" style=\"stroke:#000000; stroke-linecap:round; stroke-linejoin:round; stroke-width:4; stroke-opacity:1; fill:none\" points=\"1681.19,1251.32 1709.79,1279.65 1669.97,1285.52 \"/>\n",
              "<polyline clip-path=\"url(#clip722)\" style=\"stroke:#000000; stroke-linecap:round; stroke-linejoin:round; stroke-width:4; stroke-opacity:1; fill:none\" points=\"1709.79,1279.65 1690.02,1273.16 \"/>\n",
              "<polyline clip-path=\"url(#clip722)\" style=\"stroke:#000000; stroke-linecap:round; stroke-linejoin:round; stroke-width:4; stroke-opacity:1; fill:none\" points=\"1200,800 1214.11,813.255 1228.21,826.495 1242.28,839.707 1256.32,852.876 1270.32,865.988 1284.27,879.029 1298.15,891.984 1311.96,904.839 1325.68,917.58 1339.3,930.193 1352.82,942.663 1366.21,954.976 1379.48,967.118 1392.61,979.075 1405.58,990.831 1418.39,1002.37 1431.04,1013.69 1443.49,1024.76 1455.76,1035.58 1467.82,1046.12 1479.66,1056.38 1491.28,1066.34 1502.66,1075.99 1513.79,1085.3 1524.66,1094.28 1535.28,1102.91 1545.64,1111.22 1555.77,1119.21 1565.67,1126.9 1575.36,1134.31 1584.84,1141.45 1594.13,1148.33 1603.24,1154.96 1612.17,1161.37 1620.94,1167.57 1629.56,1173.56 1638.04,1179.37 1646.39,1185.01 1654.62,1190.49 1662.74,1195.83 1670.77,1201.04 1678.71,1206.14 1686.57,1211.14 1694.37,1216.05 1702.12,1220.89 1709.82,1225.67 1717.49,1230.41 1725.14,1235.12 1732.78,1239.82 \"/>\n",
              "<polyline clip-path=\"url(#clip722)\" style=\"stroke:#000000; stroke-linecap:round; stroke-linejoin:round; stroke-width:4; stroke-opacity:1; fill:none\" points=\"1711.54,1205.63 1732.78,1239.82 1692.69,1236.29 \"/>\n",
              "<polyline clip-path=\"url(#clip722)\" style=\"stroke:#000000; stroke-linecap:round; stroke-linejoin:round; stroke-width:4; stroke-opacity:1; fill:none\" points=\"1732.78,1239.82 1725.14,1235.12 \"/>\n",
              "<path clip-path=\"url(#clip722)\" d=\"M926.412 571.594 L965.731 571.594 L965.731 535.461 L926.412 535.461 L926.412 571.594 L926.412 571.594  Z\" fill=\"#ffffff\" fill-rule=\"evenodd\" fill-opacity=\"1\"/>\n",
              "<polyline clip-path=\"url(#clip722)\" style=\"stroke:#000000; stroke-linecap:round; stroke-linejoin:round; stroke-width:0; stroke-opacity:0; fill:none\" points=\"926.412,571.594 965.731,571.594 965.731,535.461 926.412,535.461 926.412,571.594 \"/>\n",
              "<path clip-path=\"url(#clip722)\" d=\"M1273.63 555.745 L1312.95 555.745 L1312.95 519.613 L1273.63 519.613 L1273.63 555.745 L1273.63 555.745  Z\" fill=\"#ffffff\" fill-rule=\"evenodd\" fill-opacity=\"1\"/>\n",
              "<polyline clip-path=\"url(#clip722)\" style=\"stroke:#000000; stroke-linecap:round; stroke-linejoin:round; stroke-width:0; stroke-opacity:0; fill:none\" points=\"1273.63,555.745 1312.95,555.745 1312.95,519.613 1273.63,519.613 1273.63,555.745 \"/>\n",
              "<path clip-path=\"url(#clip722)\" d=\"M1513.73 830.089 L1644.7 830.089 L1644.7 793.957 L1513.73 793.957 L1513.73 830.089 L1513.73 830.089  Z\" fill=\"#ffffff\" fill-rule=\"evenodd\" fill-opacity=\"1\"/>\n",
              "<polyline clip-path=\"url(#clip722)\" style=\"stroke:#000000; stroke-linecap:round; stroke-linejoin:round; stroke-width:0; stroke-opacity:0; fill:none\" points=\"1513.73,830.089 1644.7,830.089 1644.7,793.957 1513.73,793.957 1513.73,830.089 \"/>\n",
              "<path clip-path=\"url(#clip722)\" d=\"M1149.1 1111.87 L1230.93 1111.87 L1230.93 1075.74 L1149.1 1075.74 L1149.1 1111.87 L1149.1 1111.87  Z\" fill=\"#ffffff\" fill-rule=\"evenodd\" fill-opacity=\"1\"/>\n",
              "<polyline clip-path=\"url(#clip722)\" style=\"stroke:#000000; stroke-linecap:round; stroke-linejoin:round; stroke-width:0; stroke-opacity:0; fill:none\" points=\"1149.1,1111.87 1230.93,1111.87 1230.93,1075.74 1149.1,1075.74 1149.1,1111.87 \"/>\n",
              "<path clip-path=\"url(#clip722)\" d=\"M1453.77 1107.9 L1584.74 1107.9 L1584.74 1071.77 L1453.77 1071.77 L1453.77 1107.9 L1453.77 1107.9  Z\" fill=\"#ffffff\" fill-rule=\"evenodd\" fill-opacity=\"1\"/>\n",
              "<polyline clip-path=\"url(#clip722)\" style=\"stroke:#000000; stroke-linecap:round; stroke-linejoin:round; stroke-width:0; stroke-opacity:0; fill:none\" points=\"1453.77,1107.9 1584.74,1107.9 1584.74,1071.77 1453.77,1071.77 1453.77,1107.9 \"/>\n",
              "<path clip-path=\"url(#clip722)\" d=\"M1420.35 262.317 L1377.39 187.9 L1291.46 187.9 L1248.49 262.317 L1291.46 336.734 L1377.39 336.734 L1420.35 262.317 L1420.35 262.317  Z\" fill=\"#ffffff\" fill-rule=\"evenodd\" fill-opacity=\"1\"/>\n",
              "<polyline clip-path=\"url(#clip722)\" style=\"stroke:#000000; stroke-linecap:round; stroke-linejoin:round; stroke-width:4; stroke-opacity:1; fill:none\" points=\"1420.35,262.317 1377.39,187.9 1291.46,187.9 1248.49,262.317 1291.46,336.734 1377.39,336.734 1420.35,262.317 \"/>\n",
              "<path clip-path=\"url(#clip722)\" d=\"M332.072 837.939 L723.721 837.939 L723.721 762.061 L332.072 762.061 L332.072 837.939 L332.072 837.939  Z\" fill=\"#ffffff\" fill-rule=\"evenodd\" fill-opacity=\"1\"/>\n",
              "<polyline clip-path=\"url(#clip722)\" style=\"stroke:#000000; stroke-linecap:round; stroke-linejoin:round; stroke-width:4; stroke-opacity:1; fill:none\" points=\"332.072,837.939 723.721,837.939 723.721,762.061 332.072,762.061 332.072,837.939 \"/>\n",
              "<path clip-path=\"url(#clip722)\" d=\"M1004.18 837.939 L1395.82 837.939 L1395.82 762.061 L1004.18 762.061 L1004.18 837.939 L1004.18 837.939  Z\" fill=\"#ffffff\" fill-rule=\"evenodd\" fill-opacity=\"1\"/>\n",
              "<polyline clip-path=\"url(#clip722)\" style=\"stroke:#000000; stroke-linecap:round; stroke-linejoin:round; stroke-width:4; stroke-opacity:1; fill:none\" points=\"1004.18,837.939 1395.82,837.939 1395.82,762.061 1004.18,762.061 1004.18,837.939 \"/>\n",
              "<path clip-path=\"url(#clip722)\" d=\"M2067.93 1337.68 L1970.02 1168.09 L1774.19 1168.09 L1676.28 1337.68 L1774.19 1507.27 L1970.02 1507.27 L2067.93 1337.68 L2067.93 1337.68  Z\" fill=\"#ffffff\" fill-rule=\"evenodd\" fill-opacity=\"1\"/>\n",
              "<polyline clip-path=\"url(#clip722)\" style=\"stroke:#000000; stroke-linecap:round; stroke-linejoin:round; stroke-width:4; stroke-opacity:1; fill:none\" points=\"2067.93,1337.68 1970.02,1168.09 1774.19,1168.09 1676.28,1337.68 1774.19,1507.27 1970.02,1507.27 2067.93,1337.68 \"/>\n",
              "<circle clip-path=\"url(#clip722)\" style=\"fill:#ffffff; stroke:none; fill-opacity:0\" cx=\"1334.42\" cy=\"262.317\" r=\"2\"/>\n",
              "<circle clip-path=\"url(#clip722)\" style=\"fill:#ffffff; stroke:none; fill-opacity:0\" cx=\"527.897\" cy=\"800\" r=\"2\"/>\n",
              "<circle clip-path=\"url(#clip722)\" style=\"fill:#ffffff; stroke:none; fill-opacity:0\" cx=\"1200\" cy=\"800\" r=\"2\"/>\n",
              "<circle clip-path=\"url(#clip722)\" style=\"fill:#ffffff; stroke:none; fill-opacity:0\" cx=\"1872.1\" cy=\"1337.68\" r=\"2\"/>\n",
              "<path clip-path=\"url(#clip720)\" d=\"M922.576 538.408 L926.971 538.408 L934.486 549.649 L942.041 538.408 L946.436 538.408 L936.714 552.93 L947.084 568.648 L942.689 568.648 L934.182 555.786 L925.614 568.648 L921.199 568.648 L931.994 552.505 L922.576 538.408 Z\" fill=\"#000000\" fill-rule=\"nonzero\" fill-opacity=\"1\" /><path clip-path=\"url(#clip720)\" d=\"M953.525 565.204 L960.209 565.204 L960.209 542.134 L952.938 543.593 L952.938 539.866 L960.168 538.408 L964.26 538.408 L964.26 565.204 L970.944 565.204 L970.944 568.648 L953.525 568.648 L953.525 565.204 Z\" fill=\"#000000\" fill-rule=\"nonzero\" fill-opacity=\"1\" /><path clip-path=\"url(#clip720)\" d=\"M1269.96 522.559 L1274.35 522.559 L1281.87 533.8 L1289.42 522.559 L1293.82 522.559 L1284.1 537.081 L1294.47 552.799 L1290.07 552.799 L1281.56 539.937 L1273 552.799 L1268.58 552.799 L1279.38 536.656 L1269.96 522.559 Z\" fill=\"#000000\" fill-rule=\"nonzero\" fill-opacity=\"1\" /><path clip-path=\"url(#clip720)\" d=\"M1303.72 549.356 L1318 549.356 L1318 552.799 L1298.8 552.799 L1298.8 549.356 Q1301.13 546.945 1305.14 542.895 Q1309.17 538.823 1310.2 537.649 Q1312.17 535.441 1312.94 533.922 Q1313.73 532.382 1313.73 530.904 Q1313.73 528.494 1312.03 526.974 Q1310.35 525.455 1307.63 525.455 Q1305.71 525.455 1303.56 526.124 Q1301.43 526.792 1299 528.149 L1299 524.017 Q1301.47 523.025 1303.62 522.518 Q1305.77 522.012 1307.55 522.012 Q1312.25 522.012 1315.05 524.362 Q1317.84 526.711 1317.84 530.641 Q1317.84 532.504 1317.13 534.185 Q1316.44 535.846 1314.6 538.114 Q1314.09 538.702 1311.38 541.517 Q1308.66 544.312 1303.72 549.356 Z\" fill=\"#000000\" fill-rule=\"nonzero\" fill-opacity=\"1\" /><path clip-path=\"url(#clip720)\" d=\"M1476.86 823.7 L1483.54 823.7 L1483.54 800.63 L1476.27 802.088 L1476.27 798.361 L1483.5 796.903 L1487.59 796.903 L1487.59 823.7 L1494.28 823.7 L1494.28 827.143 L1476.86 827.143 L1476.86 823.7 Z\" fill=\"#000000\" fill-rule=\"nonzero\" fill-opacity=\"1\" /><path clip-path=\"url(#clip720)\" d=\"M1511.29 799.597 Q1508.13 799.597 1506.53 802.716 Q1504.95 805.815 1504.95 812.053 Q1504.95 818.271 1506.53 821.391 Q1508.13 824.49 1511.29 824.49 Q1514.47 824.49 1516.05 821.391 Q1517.65 818.271 1517.65 812.053 Q1517.65 805.815 1516.05 802.716 Q1514.47 799.597 1511.29 799.597 M1511.29 796.356 Q1516.38 796.356 1519.05 800.387 Q1521.74 804.397 1521.74 812.053 Q1521.74 819.689 1519.05 823.72 Q1516.38 827.73 1511.29 827.73 Q1506.21 827.73 1503.51 823.72 Q1500.84 819.689 1500.84 812.053 Q1500.84 804.397 1503.51 800.387 Q1506.21 796.356 1511.29 796.356 Z\" fill=\"#000000\" fill-rule=\"nonzero\" fill-opacity=\"1\" /><path clip-path=\"url(#clip720)\" d=\"M1537.68 799.597 Q1534.52 799.597 1532.92 802.716 Q1531.34 805.815 1531.34 812.053 Q1531.34 818.271 1532.92 821.391 Q1534.52 824.49 1537.68 824.49 Q1540.86 824.49 1542.44 821.391 Q1544.04 818.271 1544.04 812.053 Q1544.04 805.815 1542.44 802.716 Q1540.86 799.597 1537.68 799.597 M1537.68 796.356 Q1542.77 796.356 1545.44 800.387 Q1548.14 804.397 1548.14 812.053 Q1548.14 819.689 1545.44 823.72 Q1542.77 827.73 1537.68 827.73 Q1532.6 827.73 1529.91 823.72 Q1527.23 819.689 1527.23 812.053 Q1527.23 804.397 1529.91 800.387 Q1532.6 796.356 1537.68 796.356 Z\" fill=\"#000000\" fill-rule=\"nonzero\" fill-opacity=\"1\" /><path clip-path=\"url(#clip720)\" d=\"M1552.92 814.119 L1563.83 814.119 L1563.83 817.441 L1552.92 817.441 L1552.92 814.119 Z\" fill=\"#000000\" fill-rule=\"nonzero\" fill-opacity=\"1\" /><path clip-path=\"url(#clip720)\" d=\"M1566.41 796.903 L1570.8 796.903 L1578.31 808.144 L1585.87 796.903 L1590.27 796.903 L1580.54 811.425 L1590.91 827.143 L1586.52 827.143 L1578.01 814.281 L1569.44 827.143 L1565.03 827.143 L1575.82 811 L1566.41 796.903 Z\" fill=\"#000000\" fill-rule=\"nonzero\" fill-opacity=\"1\" /><path clip-path=\"url(#clip720)\" d=\"M1597.35 823.7 L1604.04 823.7 L1604.04 800.63 L1596.77 802.088 L1596.77 798.361 L1604 796.903 L1608.09 796.903 L1608.09 823.7 L1614.77 823.7 L1614.77 827.143 L1597.35 827.143 L1597.35 823.7 Z\" fill=\"#000000\" fill-rule=\"nonzero\" fill-opacity=\"1\" /><path clip-path=\"url(#clip720)\" d=\"M1620.63 814.119 L1631.54 814.119 L1631.54 817.441 L1620.63 817.441 L1620.63 814.119 Z\" fill=\"#000000\" fill-rule=\"nonzero\" fill-opacity=\"1\" /><path clip-path=\"url(#clip720)\" d=\"M1634.12 796.903 L1638.51 796.903 L1646.03 808.144 L1653.58 796.903 L1657.98 796.903 L1648.25 811.425 L1658.62 827.143 L1654.23 827.143 L1645.72 814.281 L1637.15 827.143 L1632.74 827.143 L1643.53 811 L1634.12 796.903 Z\" fill=\"#000000\" fill-rule=\"nonzero\" fill-opacity=\"1\" /><path clip-path=\"url(#clip720)\" d=\"M1667.88 823.7 L1682.16 823.7 L1682.16 827.143 L1662.96 827.143 L1662.96 823.7 Q1665.29 821.289 1669.3 817.238 Q1673.33 813.167 1674.36 811.993 Q1676.33 809.785 1677.1 808.266 Q1677.89 806.726 1677.89 805.248 Q1677.89 802.838 1676.18 801.318 Q1674.5 799.799 1671.79 799.799 Q1669.87 799.799 1667.72 800.468 Q1665.59 801.136 1663.16 802.493 L1663.16 798.361 Q1665.63 797.369 1667.78 796.862 Q1669.93 796.356 1671.71 796.356 Q1676.41 796.356 1679.2 798.706 Q1682 801.055 1682 804.985 Q1682 806.848 1681.29 808.529 Q1680.6 810.19 1678.76 812.458 Q1678.25 813.046 1675.54 815.861 Q1672.82 818.656 1667.88 823.7 Z\" fill=\"#000000\" fill-rule=\"nonzero\" fill-opacity=\"1\" /><path clip-path=\"url(#clip720)\" d=\"M1143.36 1081.38 Q1140.2 1081.38 1138.6 1084.5 Q1137.02 1087.59 1137.02 1093.83 Q1137.02 1100.05 1138.6 1103.17 Q1140.2 1106.27 1143.36 1106.27 Q1146.54 1106.27 1148.12 1103.17 Q1149.72 1100.05 1149.72 1093.83 Q1149.72 1087.59 1148.12 1084.5 Q1146.54 1081.38 1143.36 1081.38 M1143.36 1078.14 Q1148.44 1078.14 1151.12 1082.17 Q1153.81 1086.18 1153.81 1093.83 Q1153.81 1101.47 1151.12 1105.5 Q1148.44 1109.51 1143.36 1109.51 Q1138.28 1109.51 1135.58 1105.5 Q1132.91 1101.47 1132.91 1093.83 Q1132.91 1086.18 1135.58 1082.17 Q1138.28 1078.14 1143.36 1078.14 Z\" fill=\"#000000\" fill-rule=\"nonzero\" fill-opacity=\"1\" /><path clip-path=\"url(#clip720)\" d=\"M1161 1103.78 L1165.27 1103.78 L1165.27 1108.92 L1161 1108.92 L1161 1103.78 Z\" fill=\"#000000\" fill-rule=\"nonzero\" fill-opacity=\"1\" /><path clip-path=\"url(#clip720)\" d=\"M1177.71 1105.48 L1191.99 1105.48 L1191.99 1108.92 L1172.79 1108.92 L1172.79 1105.48 Q1175.12 1103.07 1179.13 1099.02 Q1183.16 1094.95 1184.19 1093.77 Q1186.16 1091.56 1186.93 1090.05 Q1187.72 1088.51 1187.72 1087.03 Q1187.72 1084.62 1186.02 1083.1 Q1184.33 1081.58 1181.62 1081.58 Q1179.7 1081.58 1177.55 1082.25 Q1175.42 1082.92 1172.99 1084.27 L1172.99 1080.14 Q1175.46 1079.15 1177.61 1078.64 Q1179.76 1078.14 1181.54 1078.14 Q1186.24 1078.14 1189.03 1080.49 Q1191.83 1082.83 1191.83 1086.76 Q1191.83 1088.63 1191.12 1090.31 Q1190.43 1091.97 1188.59 1094.24 Q1188.08 1094.83 1185.37 1097.64 Q1182.65 1100.44 1177.71 1105.48 Z\" fill=\"#000000\" fill-rule=\"nonzero\" fill-opacity=\"1\" /><path clip-path=\"url(#clip720)\" d=\"M1198.76 1078.68 L1203.15 1078.68 L1210.66 1089.92 L1218.22 1078.68 L1222.62 1078.68 L1212.89 1093.21 L1223.26 1108.92 L1218.87 1108.92 L1210.36 1096.06 L1201.79 1108.92 L1197.38 1108.92 L1208.17 1092.78 L1198.76 1078.68 Z\" fill=\"#000000\" fill-rule=\"nonzero\" fill-opacity=\"1\" /><path clip-path=\"url(#clip720)\" d=\"M1229.7 1105.48 L1236.39 1105.48 L1236.39 1082.41 L1229.12 1083.87 L1229.12 1080.14 L1236.35 1078.68 L1240.44 1078.68 L1240.44 1105.48 L1247.12 1105.48 L1247.12 1108.92 L1229.7 1108.92 L1229.7 1105.48 Z\" fill=\"#000000\" fill-rule=\"nonzero\" fill-opacity=\"1\" /><path clip-path=\"url(#clip720)\" d=\"M1415.8 1077.41 Q1412.64 1077.41 1411.04 1080.53 Q1409.46 1083.63 1409.46 1089.86 Q1409.46 1096.08 1411.04 1099.2 Q1412.64 1102.3 1415.8 1102.3 Q1418.98 1102.3 1420.56 1099.2 Q1422.16 1096.08 1422.16 1089.86 Q1422.16 1083.63 1420.56 1080.53 Q1418.98 1077.41 1415.8 1077.41 M1415.8 1074.17 Q1420.88 1074.17 1423.55 1078.2 Q1426.25 1082.21 1426.25 1089.86 Q1426.25 1097.5 1423.55 1101.53 Q1420.88 1105.54 1415.8 1105.54 Q1410.71 1105.54 1408.02 1101.53 Q1405.35 1097.5 1405.35 1089.86 Q1405.35 1082.21 1408.02 1078.2 Q1410.71 1074.17 1415.8 1074.17 Z\" fill=\"#000000\" fill-rule=\"nonzero\" fill-opacity=\"1\" /><path clip-path=\"url(#clip720)\" d=\"M1433.44 1099.81 L1437.71 1099.81 L1437.71 1104.95 L1433.44 1104.95 L1433.44 1099.81 Z\" fill=\"#000000\" fill-rule=\"nonzero\" fill-opacity=\"1\" /><path clip-path=\"url(#clip720)\" d=\"M1455.37 1077.41 Q1452.21 1077.41 1450.61 1080.53 Q1449.03 1083.63 1449.03 1089.86 Q1449.03 1096.08 1450.61 1099.2 Q1452.21 1102.3 1455.37 1102.3 Q1458.55 1102.3 1460.13 1099.2 Q1461.73 1096.08 1461.73 1089.86 Q1461.73 1083.63 1460.13 1080.53 Q1458.55 1077.41 1455.37 1077.41 M1455.37 1074.17 Q1460.46 1074.17 1463.13 1078.2 Q1465.83 1082.21 1465.83 1089.86 Q1465.83 1097.5 1463.13 1101.53 Q1460.46 1105.54 1455.37 1105.54 Q1450.29 1105.54 1447.6 1101.53 Q1444.92 1097.5 1444.92 1089.86 Q1444.92 1082.21 1447.6 1078.2 Q1450.29 1074.17 1455.37 1074.17 Z\" fill=\"#000000\" fill-rule=\"nonzero\" fill-opacity=\"1\" /><path clip-path=\"url(#clip720)\" d=\"M1481.77 1077.41 Q1478.61 1077.41 1477.01 1080.53 Q1475.43 1083.63 1475.43 1089.86 Q1475.43 1096.08 1477.01 1099.2 Q1478.61 1102.3 1481.77 1102.3 Q1484.95 1102.3 1486.53 1099.2 Q1488.13 1096.08 1488.13 1089.86 Q1488.13 1083.63 1486.53 1080.53 Q1484.95 1077.41 1481.77 1077.41 M1481.77 1074.17 Q1486.85 1074.17 1489.52 1078.2 Q1492.22 1082.21 1492.22 1089.86 Q1492.22 1097.5 1489.52 1101.53 Q1486.85 1105.54 1481.77 1105.54 Q1476.68 1105.54 1473.99 1101.53 Q1471.31 1097.5 1471.31 1089.86 Q1471.31 1082.21 1473.99 1078.2 Q1476.68 1074.17 1481.77 1074.17 Z\" fill=\"#000000\" fill-rule=\"nonzero\" fill-opacity=\"1\" /><path clip-path=\"url(#clip720)\" d=\"M1499.45 1074.71 L1515.51 1074.71 L1515.51 1078.16 L1503.2 1078.16 L1503.2 1085.57 Q1504.09 1085.27 1504.98 1085.13 Q1505.87 1084.96 1506.76 1084.96 Q1511.82 1084.96 1514.78 1087.74 Q1517.74 1090.51 1517.74 1095.25 Q1517.74 1100.13 1514.7 1102.85 Q1511.66 1105.54 1506.13 1105.54 Q1504.23 1105.54 1502.24 1105.22 Q1500.28 1104.89 1498.17 1104.25 L1498.17 1100.13 Q1500 1101.13 1501.94 1101.61 Q1503.88 1102.1 1506.05 1102.1 Q1509.56 1102.1 1511.6 1100.26 Q1513.65 1098.41 1513.65 1095.25 Q1513.65 1092.09 1511.6 1090.25 Q1509.56 1088.41 1506.05 1088.41 Q1504.41 1088.41 1502.77 1088.77 Q1501.15 1089.14 1499.45 1089.91 L1499.45 1074.71 Z\" fill=\"#000000\" fill-rule=\"nonzero\" fill-opacity=\"1\" /><path clip-path=\"url(#clip720)\" d=\"M1523.98 1074.71 L1528.37 1074.71 L1535.89 1085.96 L1543.44 1074.71 L1547.84 1074.71 L1538.11 1089.24 L1548.48 1104.95 L1544.09 1104.95 L1535.58 1092.09 L1527.01 1104.95 L1522.6 1104.95 L1533.4 1088.81 L1523.98 1074.71 Z\" fill=\"#000000\" fill-rule=\"nonzero\" fill-opacity=\"1\" /><path clip-path=\"url(#clip720)\" d=\"M1557.74 1101.51 L1572.02 1101.51 L1572.02 1104.95 L1552.82 1104.95 L1552.82 1101.51 Q1555.15 1099.1 1559.16 1095.05 Q1563.19 1090.98 1564.22 1089.8 Q1566.19 1087.6 1566.96 1086.08 Q1567.75 1084.54 1567.75 1083.06 Q1567.75 1080.65 1566.05 1079.13 Q1564.36 1077.61 1561.65 1077.61 Q1559.73 1077.61 1557.58 1078.28 Q1555.45 1078.95 1553.02 1080.3 L1553.02 1076.17 Q1555.49 1075.18 1557.64 1074.67 Q1559.79 1074.17 1561.57 1074.17 Q1566.27 1074.17 1569.06 1076.52 Q1571.86 1078.87 1571.86 1082.8 Q1571.86 1084.66 1571.15 1086.34 Q1570.46 1088 1568.62 1090.27 Q1568.11 1090.86 1565.4 1093.67 Q1562.68 1096.47 1557.74 1101.51 Z\" fill=\"#000000\" fill-rule=\"nonzero\" fill-opacity=\"1\" /><path clip-path=\"url(#clip720)\" d=\"M1595.54 1074.71 L1606.53 1086 L1602.46 1086 L1593.55 1078 L1584.64 1086 L1580.57 1086 L1591.57 1074.71 L1595.54 1074.71 Z\" fill=\"#000000\" fill-rule=\"nonzero\" fill-opacity=\"1\" /><path clip-path=\"url(#clip720)\" d=\"M1618.89 1101.51 L1633.17 1101.51 L1633.17 1104.95 L1613.97 1104.95 L1613.97 1101.51 Q1616.3 1099.1 1620.31 1095.05 Q1624.34 1090.98 1625.37 1089.8 Q1627.34 1087.6 1628.11 1086.08 Q1628.9 1084.54 1628.9 1083.06 Q1628.9 1080.65 1627.19 1079.13 Q1625.51 1077.61 1622.8 1077.61 Q1620.87 1077.61 1618.73 1078.28 Q1616.6 1078.95 1614.17 1080.3 L1614.17 1076.17 Q1616.64 1075.18 1618.79 1074.67 Q1620.94 1074.17 1622.72 1074.17 Q1627.42 1074.17 1630.21 1076.52 Q1633.01 1078.87 1633.01 1082.8 Q1633.01 1084.66 1632.3 1086.34 Q1631.61 1088 1629.77 1090.27 Q1629.26 1090.86 1626.55 1093.67 Q1623.83 1096.47 1618.89 1101.51 Z\" fill=\"#000000\" fill-rule=\"nonzero\" fill-opacity=\"1\" /><path clip-path=\"url(#clip720)\" d=\"M1288.79 250.559 L1288.79 261.922 L1293.93 261.922 Q1296.79 261.922 1298.35 260.444 Q1299.91 258.965 1299.91 256.231 Q1299.91 253.517 1298.35 252.038 Q1296.79 250.559 1293.93 250.559 L1288.79 250.559 M1284.7 247.197 L1293.93 247.197 Q1299.02 247.197 1301.61 249.506 Q1304.22 251.795 1304.22 256.231 Q1304.22 260.707 1301.61 262.996 Q1299.02 265.284 1293.93 265.284 L1288.79 265.284 L1288.79 277.437 L1284.7 277.437 L1284.7 247.197 Z\" fill=\"#000000\" fill-rule=\"nonzero\" fill-opacity=\"1\" /><path clip-path=\"url(#clip720)\" d=\"M1309.55 245.921 L1313.27 245.921 L1313.27 277.437 L1309.55 277.437 L1309.55 245.921 Z\" fill=\"#000000\" fill-rule=\"nonzero\" fill-opacity=\"1\" /><path clip-path=\"url(#clip720)\" d=\"M1331.38 266.034 Q1326.87 266.034 1325.12 267.067 Q1323.38 268.1 1323.38 270.591 Q1323.38 272.576 1324.68 273.751 Q1325.99 274.905 1328.24 274.905 Q1331.34 274.905 1333.21 272.718 Q1335.09 270.51 1335.09 266.864 L1335.09 266.034 L1331.38 266.034 M1338.82 264.495 L1338.82 277.437 L1335.09 277.437 L1335.09 273.994 Q1333.81 276.06 1331.91 277.052 Q1330.01 278.025 1327.25 278.025 Q1323.77 278.025 1321.7 276.08 Q1319.66 274.115 1319.66 270.834 Q1319.66 267.006 1322.21 265.062 Q1324.78 263.117 1329.86 263.117 L1335.09 263.117 L1335.09 262.753 Q1335.09 260.18 1333.39 258.783 Q1331.71 257.365 1328.65 257.365 Q1326.7 257.365 1324.86 257.831 Q1323.02 258.297 1321.32 259.228 L1321.32 255.785 Q1323.36 254.995 1325.29 254.61 Q1327.21 254.205 1329.03 254.205 Q1333.95 254.205 1336.39 256.757 Q1338.82 259.309 1338.82 264.495 Z\" fill=\"#000000\" fill-rule=\"nonzero\" fill-opacity=\"1\" /><path clip-path=\"url(#clip720)\" d=\"M1365.35 263.745 L1365.35 277.437 L1361.62 277.437 L1361.62 263.867 Q1361.62 260.646 1360.37 259.046 Q1359.11 257.446 1356.6 257.446 Q1353.58 257.446 1351.84 259.37 Q1350.1 261.294 1350.1 264.616 L1350.1 277.437 L1346.35 277.437 L1346.35 254.752 L1350.1 254.752 L1350.1 258.276 Q1351.43 256.231 1353.24 255.218 Q1355.06 254.205 1357.43 254.205 Q1361.34 254.205 1363.34 256.636 Q1365.35 259.046 1365.35 263.745 Z\" fill=\"#000000\" fill-rule=\"nonzero\" fill-opacity=\"1\" /><path clip-path=\"url(#clip720)\" d=\"M1376.47 248.311 L1376.47 254.752 L1384.15 254.752 L1384.15 257.649 L1376.47 257.649 L1376.47 269.963 Q1376.47 272.738 1377.22 273.528 Q1377.99 274.318 1380.32 274.318 L1384.15 274.318 L1384.15 277.437 L1380.32 277.437 Q1376 277.437 1374.36 275.837 Q1372.72 274.217 1372.72 269.963 L1372.72 257.649 L1369.99 257.649 L1369.99 254.752 L1372.72 254.752 L1372.72 248.311 L1376.47 248.311 Z\" fill=\"#000000\" fill-rule=\"nonzero\" fill-opacity=\"1\" /><path clip-path=\"url(#clip720)\" d=\"M367.724 784.88 L371.815 784.88 L371.815 811.677 L386.54 811.677 L386.54 815.12 L367.724 815.12 L367.724 784.88 Z\" fill=\"#000000\" fill-rule=\"nonzero\" fill-opacity=\"1\" /><path clip-path=\"url(#clip720)\" d=\"M400.982 803.717 Q396.465 803.717 394.723 804.75 Q392.981 805.783 392.981 808.274 Q392.981 810.259 394.277 811.434 Q395.594 812.588 397.842 812.588 Q400.941 812.588 402.805 810.401 Q404.688 808.193 404.688 804.547 L404.688 803.717 L400.982 803.717 M408.415 802.177 L408.415 815.12 L404.688 815.12 L404.688 811.677 Q403.412 813.743 401.508 814.735 Q399.604 815.707 396.85 815.707 Q393.366 815.707 391.3 813.763 Q389.254 811.798 389.254 808.517 Q389.254 804.689 391.806 802.744 Q394.379 800.8 399.463 800.8 L404.688 800.8 L404.688 800.435 Q404.688 797.863 402.987 796.466 Q401.306 795.048 398.247 795.048 Q396.303 795.048 394.46 795.514 Q392.617 795.979 390.915 796.911 L390.915 793.468 Q392.961 792.678 394.885 792.293 Q396.809 791.888 398.632 791.888 Q403.554 791.888 405.985 794.44 Q408.415 796.992 408.415 802.177 Z\" fill=\"#000000\" fill-rule=\"nonzero\" fill-opacity=\"1\" /><path clip-path=\"url(#clip720)\" d=\"M434.949 801.428 L434.949 815.12 L431.222 815.12 L431.222 801.549 Q431.222 798.329 429.966 796.729 Q428.71 795.129 426.199 795.129 Q423.181 795.129 421.439 797.053 Q419.697 798.977 419.697 802.299 L419.697 815.12 L415.95 815.12 L415.95 792.435 L419.697 792.435 L419.697 795.959 Q421.034 793.914 422.836 792.901 Q424.659 791.888 427.029 791.888 Q430.938 791.888 432.943 794.319 Q434.949 796.729 434.949 801.428 Z\" fill=\"#000000\" fill-rule=\"nonzero\" fill-opacity=\"1\" /><path clip-path=\"url(#clip720)\" d=\"M457.31 795.878 L457.31 783.604 L461.036 783.604 L461.036 815.12 L457.31 815.12 L457.31 811.717 Q456.135 813.743 454.332 814.735 Q452.55 815.707 450.038 815.707 Q445.926 815.707 443.334 812.426 Q440.762 809.145 440.762 803.798 Q440.762 798.451 443.334 795.169 Q445.926 791.888 450.038 791.888 Q452.55 791.888 454.332 792.881 Q456.135 793.853 457.31 795.878 M444.61 803.798 Q444.61 807.909 446.291 810.259 Q447.992 812.588 450.95 812.588 Q453.907 812.588 455.608 810.259 Q457.31 807.909 457.31 803.798 Q457.31 799.686 455.608 797.357 Q453.907 795.007 450.95 795.007 Q447.992 795.007 446.291 797.357 Q444.61 799.686 444.61 803.798 Z\" fill=\"#000000\" fill-rule=\"nonzero\" fill-opacity=\"1\" /><path clip-path=\"url(#clip720)\" d=\"M477.868 784.88 L503.449 784.88 L503.449 788.323 L492.714 788.323 L492.714 815.12 L488.603 815.12 L488.603 788.323 L477.868 788.323 L477.868 784.88 Z\" fill=\"#000000\" fill-rule=\"nonzero\" fill-opacity=\"1\" /><path clip-path=\"url(#clip720)\" d=\"M514.285 795.919 Q513.658 795.554 512.908 795.392 Q512.179 795.21 511.288 795.21 Q508.128 795.21 506.427 797.276 Q504.746 799.321 504.746 803.17 L504.746 815.12 L500.999 815.12 L500.999 792.435 L504.746 792.435 L504.746 795.959 Q505.92 793.893 507.804 792.901 Q509.688 791.888 512.382 791.888 Q512.766 791.888 513.232 791.949 Q513.698 791.989 514.265 792.091 L514.285 795.919 Z\" fill=\"#000000\" fill-rule=\"nonzero\" fill-opacity=\"1\" /><path clip-path=\"url(#clip720)\" d=\"M536.687 802.846 L536.687 804.669 L519.552 804.669 Q519.795 808.517 521.861 810.542 Q523.947 812.548 527.653 812.548 Q529.8 812.548 531.806 812.021 Q533.831 811.494 535.816 810.441 L535.816 813.965 Q533.811 814.816 531.704 815.262 Q529.598 815.707 527.431 815.707 Q522.002 815.707 518.822 812.548 Q515.663 809.388 515.663 804 Q515.663 798.43 518.66 795.169 Q521.678 791.888 526.783 791.888 Q531.36 791.888 534.013 794.845 Q536.687 797.782 536.687 802.846 M532.96 801.752 Q532.92 798.694 531.239 796.871 Q529.578 795.048 526.823 795.048 Q523.704 795.048 521.82 796.81 Q519.957 798.572 519.673 801.772 L532.96 801.752 Z\" fill=\"#000000\" fill-rule=\"nonzero\" fill-opacity=\"1\" /><path clip-path=\"url(#clip720)\" d=\"M553.113 803.717 Q548.597 803.717 546.855 804.75 Q545.113 805.783 545.113 808.274 Q545.113 810.259 546.409 811.434 Q547.726 812.588 549.974 812.588 Q553.073 812.588 554.936 810.401 Q556.82 808.193 556.82 804.547 L556.82 803.717 L553.113 803.717 M560.547 802.177 L560.547 815.12 L556.82 815.12 L556.82 811.677 Q555.544 813.743 553.64 814.735 Q551.736 815.707 548.981 815.707 Q545.498 815.707 543.432 813.763 Q541.386 811.798 541.386 808.517 Q541.386 804.689 543.938 802.744 Q546.51 800.8 551.594 800.8 L556.82 800.8 L556.82 800.435 Q556.82 797.863 555.119 796.466 Q553.437 795.048 550.379 795.048 Q548.435 795.048 546.591 795.514 Q544.748 795.979 543.047 796.911 L543.047 793.468 Q545.093 792.678 547.017 792.293 Q548.941 791.888 550.764 791.888 Q555.686 791.888 558.116 794.44 Q560.547 796.992 560.547 802.177 Z\" fill=\"#000000\" fill-rule=\"nonzero\" fill-opacity=\"1\" /><path clip-path=\"url(#clip720)\" d=\"M571.91 785.994 L571.91 792.435 L579.586 792.435 L579.586 795.331 L571.91 795.331 L571.91 807.646 Q571.91 810.421 572.659 811.211 Q573.429 812.001 575.758 812.001 L579.586 812.001 L579.586 815.12 L575.758 815.12 Q571.444 815.12 569.803 813.52 Q568.163 811.9 568.163 807.646 L568.163 795.331 L565.428 795.331 L565.428 792.435 L568.163 792.435 L568.163 785.994 L571.91 785.994 Z\" fill=\"#000000\" fill-rule=\"nonzero\" fill-opacity=\"1\" /><path clip-path=\"url(#clip720)\" d=\"M602.15 796.79 Q603.547 794.278 605.492 793.083 Q607.436 791.888 610.069 791.888 Q613.614 791.888 615.538 794.379 Q617.462 796.85 617.462 801.428 L617.462 815.12 L613.715 815.12 L613.715 801.549 Q613.715 798.288 612.56 796.709 Q611.406 795.129 609.036 795.129 Q606.14 795.129 604.459 797.053 Q602.777 798.977 602.777 802.299 L602.777 815.12 L599.03 815.12 L599.03 801.549 Q599.03 798.268 597.876 796.709 Q596.721 795.129 594.311 795.129 Q591.455 795.129 589.774 797.073 Q588.093 798.997 588.093 802.299 L588.093 815.12 L584.346 815.12 L584.346 792.435 L588.093 792.435 L588.093 795.959 Q589.369 793.873 591.151 792.881 Q592.934 791.888 595.385 791.888 Q597.856 791.888 599.577 793.144 Q601.319 794.4 602.15 796.79 Z\" fill=\"#000000\" fill-rule=\"nonzero\" fill-opacity=\"1\" /><path clip-path=\"url(#clip720)\" d=\"M644.299 802.846 L644.299 804.669 L627.164 804.669 Q627.407 808.517 629.473 810.542 Q631.559 812.548 635.266 812.548 Q637.413 812.548 639.418 812.021 Q641.443 811.494 643.428 810.441 L643.428 813.965 Q641.423 814.816 639.317 815.262 Q637.21 815.707 635.043 815.707 Q629.615 815.707 626.435 812.548 Q623.275 809.388 623.275 804 Q623.275 798.43 626.273 795.169 Q629.291 791.888 634.395 791.888 Q638.972 791.888 641.626 794.845 Q644.299 797.782 644.299 802.846 M640.572 801.752 Q640.532 798.694 638.851 796.871 Q637.19 795.048 634.435 795.048 Q631.316 795.048 629.432 796.81 Q627.569 798.572 627.285 801.772 L640.572 801.752 Z\" fill=\"#000000\" fill-rule=\"nonzero\" fill-opacity=\"1\" /><path clip-path=\"url(#clip720)\" d=\"M669.273 801.428 L669.273 815.12 L665.546 815.12 L665.546 801.549 Q665.546 798.329 664.29 796.729 Q663.035 795.129 660.523 795.129 Q657.505 795.129 655.763 797.053 Q654.021 798.977 654.021 802.299 L654.021 815.12 L650.274 815.12 L650.274 792.435 L654.021 792.435 L654.021 795.959 Q655.358 793.914 657.161 792.901 Q658.984 791.888 661.354 791.888 Q665.263 791.888 667.268 794.319 Q669.273 796.729 669.273 801.428 Z\" fill=\"#000000\" fill-rule=\"nonzero\" fill-opacity=\"1\" /><path clip-path=\"url(#clip720)\" d=\"M680.393 785.994 L680.393 792.435 L688.069 792.435 L688.069 795.331 L680.393 795.331 L680.393 807.646 Q680.393 810.421 681.142 811.211 Q681.912 812.001 684.241 812.001 L688.069 812.001 L688.069 815.12 L684.241 815.12 Q679.927 815.12 678.286 813.52 Q676.646 811.9 676.646 807.646 L676.646 795.331 L673.911 795.331 L673.911 792.435 L676.646 792.435 L676.646 785.994 L680.393 785.994 Z\" fill=\"#000000\" fill-rule=\"nonzero\" fill-opacity=\"1\" /><path clip-path=\"url(#clip720)\" d=\"M1053.33 787.209 L1053.33 791.523 Q1051.26 789.599 1048.91 788.647 Q1046.58 787.695 1043.95 787.695 Q1038.76 787.695 1036.01 790.875 Q1033.25 794.035 1033.25 800.03 Q1033.25 806.005 1036.01 809.185 Q1038.76 812.345 1043.95 812.345 Q1046.58 812.345 1048.91 811.393 Q1051.26 810.441 1053.33 808.517 L1053.33 812.791 Q1051.18 814.249 1048.77 814.978 Q1046.38 815.707 1043.71 815.707 Q1036.84 815.707 1032.89 811.515 Q1028.94 807.302 1028.94 800.03 Q1028.94 792.739 1032.89 788.546 Q1036.84 784.333 1043.71 784.333 Q1046.42 784.333 1048.81 785.062 Q1051.22 785.771 1053.33 787.209 Z\" fill=\"#000000\" fill-rule=\"nonzero\" fill-opacity=\"1\" /><path clip-path=\"url(#clip720)\" d=\"M1078.34 801.428 L1078.34 815.12 L1074.61 815.12 L1074.61 801.549 Q1074.61 798.329 1073.36 796.729 Q1072.1 795.129 1069.59 795.129 Q1066.57 795.129 1064.83 797.053 Q1063.09 798.977 1063.09 802.299 L1063.09 815.12 L1059.34 815.12 L1059.34 783.604 L1063.09 783.604 L1063.09 795.959 Q1064.43 793.914 1066.23 792.901 Q1068.05 791.888 1070.42 791.888 Q1074.33 791.888 1076.34 794.319 Q1078.34 796.729 1078.34 801.428 Z\" fill=\"#000000\" fill-rule=\"nonzero\" fill-opacity=\"1\" /><path clip-path=\"url(#clip720)\" d=\"M1105.18 802.846 L1105.18 804.669 L1088.04 804.669 Q1088.29 808.517 1090.35 810.542 Q1092.44 812.548 1096.14 812.548 Q1098.29 812.548 1100.3 812.021 Q1102.32 811.494 1104.31 810.441 L1104.31 813.965 Q1102.3 814.816 1100.2 815.262 Q1098.09 815.707 1095.92 815.707 Q1090.49 815.707 1087.31 812.548 Q1084.15 809.388 1084.15 804 Q1084.15 798.43 1087.15 795.169 Q1090.17 791.888 1095.27 791.888 Q1099.85 791.888 1102.5 794.845 Q1105.18 797.782 1105.18 802.846 M1101.45 801.752 Q1101.41 798.694 1099.73 796.871 Q1098.07 795.048 1095.31 795.048 Q1092.2 795.048 1090.31 796.81 Q1088.45 798.572 1088.16 801.772 L1101.45 801.752 Z\" fill=\"#000000\" fill-rule=\"nonzero\" fill-opacity=\"1\" /><path clip-path=\"url(#clip720)\" d=\"M1128.96 796.79 Q1130.35 794.278 1132.3 793.083 Q1134.24 791.888 1136.88 791.888 Q1140.42 791.888 1142.35 794.379 Q1144.27 796.85 1144.27 801.428 L1144.27 815.12 L1140.52 815.12 L1140.52 801.549 Q1140.52 798.288 1139.37 796.709 Q1138.21 795.129 1135.84 795.129 Q1132.95 795.129 1131.27 797.053 Q1129.59 798.977 1129.59 802.299 L1129.59 815.12 L1125.84 815.12 L1125.84 801.549 Q1125.84 798.268 1124.68 796.709 Q1123.53 795.129 1121.12 795.129 Q1118.26 795.129 1116.58 797.073 Q1114.9 798.997 1114.9 802.299 L1114.9 815.12 L1111.15 815.12 L1111.15 792.435 L1114.9 792.435 L1114.9 795.959 Q1116.18 793.873 1117.96 792.881 Q1119.74 791.888 1122.19 791.888 Q1124.66 791.888 1126.38 793.144 Q1128.13 794.4 1128.96 796.79 Z\" fill=\"#000000\" fill-rule=\"nonzero\" fill-opacity=\"1\" /><path clip-path=\"url(#clip720)\" d=\"M1160.86 784.88 L1186.44 784.88 L1186.44 788.323 L1175.7 788.323 L1175.7 815.12 L1171.59 815.12 L1171.59 788.323 L1160.86 788.323 L1160.86 784.88 Z\" fill=\"#000000\" fill-rule=\"nonzero\" fill-opacity=\"1\" /><path clip-path=\"url(#clip720)\" d=\"M1197.28 795.919 Q1196.65 795.554 1195.9 795.392 Q1195.17 795.21 1194.28 795.21 Q1191.12 795.21 1189.42 797.276 Q1187.74 799.321 1187.74 803.17 L1187.74 815.12 L1183.99 815.12 L1183.99 792.435 L1187.74 792.435 L1187.74 795.959 Q1188.91 793.893 1190.79 792.901 Q1192.68 791.888 1195.37 791.888 Q1195.76 791.888 1196.22 791.949 Q1196.69 791.989 1197.26 792.091 L1197.28 795.919 Z\" fill=\"#000000\" fill-rule=\"nonzero\" fill-opacity=\"1\" /><path clip-path=\"url(#clip720)\" d=\"M1219.68 802.846 L1219.68 804.669 L1202.54 804.669 Q1202.78 808.517 1204.85 810.542 Q1206.94 812.548 1210.64 812.548 Q1212.79 812.548 1214.8 812.021 Q1216.82 811.494 1218.81 810.441 L1218.81 813.965 Q1216.8 814.816 1214.69 815.262 Q1212.59 815.707 1210.42 815.707 Q1204.99 815.707 1201.81 812.548 Q1198.65 809.388 1198.65 804 Q1198.65 798.43 1201.65 795.169 Q1204.67 791.888 1209.77 791.888 Q1214.35 791.888 1217 794.845 Q1219.68 797.782 1219.68 802.846 M1215.95 801.752 Q1215.91 798.694 1214.23 796.871 Q1212.57 795.048 1209.81 795.048 Q1206.69 795.048 1204.81 796.81 Q1202.95 798.572 1202.66 801.772 L1215.95 801.752 Z\" fill=\"#000000\" fill-rule=\"nonzero\" fill-opacity=\"1\" /><path clip-path=\"url(#clip720)\" d=\"M1236.1 803.717 Q1231.59 803.717 1229.85 804.75 Q1228.1 805.783 1228.1 808.274 Q1228.1 810.259 1229.4 811.434 Q1230.72 812.588 1232.96 812.588 Q1236.06 812.588 1237.93 810.401 Q1239.81 808.193 1239.81 804.547 L1239.81 803.717 L1236.1 803.717 M1243.54 802.177 L1243.54 815.12 L1239.81 815.12 L1239.81 811.677 Q1238.53 813.743 1236.63 814.735 Q1234.73 815.707 1231.97 815.707 Q1228.49 815.707 1226.42 813.763 Q1224.38 811.798 1224.38 808.517 Q1224.38 804.689 1226.93 802.744 Q1229.5 800.8 1234.58 800.8 L1239.81 800.8 L1239.81 800.435 Q1239.81 797.863 1238.11 796.466 Q1236.43 795.048 1233.37 795.048 Q1231.42 795.048 1229.58 795.514 Q1227.74 795.979 1226.04 796.911 L1226.04 793.468 Q1228.08 792.678 1230.01 792.293 Q1231.93 791.888 1233.75 791.888 Q1238.68 791.888 1241.11 794.44 Q1243.54 796.992 1243.54 802.177 Z\" fill=\"#000000\" fill-rule=\"nonzero\" fill-opacity=\"1\" /><path clip-path=\"url(#clip720)\" d=\"M1254.9 785.994 L1254.9 792.435 L1262.58 792.435 L1262.58 795.331 L1254.9 795.331 L1254.9 807.646 Q1254.9 810.421 1255.65 811.211 Q1256.42 812.001 1258.75 812.001 L1262.58 812.001 L1262.58 815.12 L1258.75 815.12 Q1254.43 815.12 1252.79 813.52 Q1251.15 811.9 1251.15 807.646 L1251.15 795.331 L1248.42 795.331 L1248.42 792.435 L1251.15 792.435 L1251.15 785.994 L1254.9 785.994 Z\" fill=\"#000000\" fill-rule=\"nonzero\" fill-opacity=\"1\" /><path clip-path=\"url(#clip720)\" d=\"M1285.14 796.79 Q1286.54 794.278 1288.48 793.083 Q1290.43 791.888 1293.06 791.888 Q1296.6 791.888 1298.53 794.379 Q1300.45 796.85 1300.45 801.428 L1300.45 815.12 L1296.71 815.12 L1296.71 801.549 Q1296.71 798.288 1295.55 796.709 Q1294.4 795.129 1292.03 795.129 Q1289.13 795.129 1287.45 797.053 Q1285.77 798.977 1285.77 802.299 L1285.77 815.12 L1282.02 815.12 L1282.02 801.549 Q1282.02 798.268 1280.87 796.709 Q1279.71 795.129 1277.3 795.129 Q1274.45 795.129 1272.76 797.073 Q1271.08 798.997 1271.08 802.299 L1271.08 815.12 L1267.34 815.12 L1267.34 792.435 L1271.08 792.435 L1271.08 795.959 Q1272.36 793.873 1274.14 792.881 Q1275.92 791.888 1278.37 791.888 Q1280.85 791.888 1282.57 793.144 Q1284.31 794.4 1285.14 796.79 Z\" fill=\"#000000\" fill-rule=\"nonzero\" fill-opacity=\"1\" /><path clip-path=\"url(#clip720)\" d=\"M1327.29 802.846 L1327.29 804.669 L1310.15 804.669 Q1310.4 808.517 1312.46 810.542 Q1314.55 812.548 1318.26 812.548 Q1320.4 812.548 1322.41 812.021 Q1324.43 811.494 1326.42 810.441 L1326.42 813.965 Q1324.41 814.816 1322.31 815.262 Q1320.2 815.707 1318.03 815.707 Q1312.61 815.707 1309.43 812.548 Q1306.27 809.388 1306.27 804 Q1306.27 798.43 1309.26 795.169 Q1312.28 791.888 1317.39 791.888 Q1321.96 791.888 1324.62 794.845 Q1327.29 797.782 1327.29 802.846 M1323.56 801.752 Q1323.52 798.694 1321.84 796.871 Q1320.18 795.048 1317.43 795.048 Q1314.31 795.048 1312.42 796.81 Q1310.56 798.572 1310.28 801.772 L1323.56 801.752 Z\" fill=\"#000000\" fill-rule=\"nonzero\" fill-opacity=\"1\" /><path clip-path=\"url(#clip720)\" d=\"M1352.26 801.428 L1352.26 815.12 L1348.54 815.12 L1348.54 801.549 Q1348.54 798.329 1347.28 796.729 Q1346.02 795.129 1343.51 795.129 Q1340.5 795.129 1338.75 797.053 Q1337.01 798.977 1337.01 802.299 L1337.01 815.12 L1333.26 815.12 L1333.26 792.435 L1337.01 792.435 L1337.01 795.959 Q1338.35 793.914 1340.15 792.901 Q1341.97 791.888 1344.34 791.888 Q1348.25 791.888 1350.26 794.319 Q1352.26 796.729 1352.26 801.428 Z\" fill=\"#000000\" fill-rule=\"nonzero\" fill-opacity=\"1\" /><path clip-path=\"url(#clip720)\" d=\"M1363.38 785.994 L1363.38 792.435 L1371.06 792.435 L1371.06 795.331 L1363.38 795.331 L1363.38 807.646 Q1363.38 810.421 1364.13 811.211 Q1364.9 812.001 1367.23 812.001 L1371.06 812.001 L1371.06 815.12 L1367.23 815.12 Q1362.92 815.12 1361.28 813.52 Q1359.64 811.9 1359.64 807.646 L1359.64 795.331 L1356.9 795.331 L1356.9 792.435 L1359.64 792.435 L1359.64 785.994 L1363.38 785.994 Z\" fill=\"#000000\" fill-rule=\"nonzero\" fill-opacity=\"1\" /><path clip-path=\"url(#clip720)\" d=\"M1734.97 1325.93 L1734.97 1337.29 L1740.11 1337.29 Q1742.97 1337.29 1744.53 1335.81 Q1746.09 1334.33 1746.09 1331.6 Q1746.09 1328.88 1744.53 1327.4 Q1742.97 1325.93 1740.11 1325.93 L1734.97 1325.93 M1730.88 1322.56 L1740.11 1322.56 Q1745.2 1322.56 1747.79 1324.87 Q1750.4 1327.16 1750.4 1331.6 Q1750.4 1336.07 1747.79 1338.36 Q1745.2 1340.65 1740.11 1340.65 L1734.97 1340.65 L1734.97 1352.8 L1730.88 1352.8 L1730.88 1322.56 Z\" fill=\"#000000\" fill-rule=\"nonzero\" fill-opacity=\"1\" /><path clip-path=\"url(#clip720)\" d=\"M1768.15 1333.6 Q1767.52 1333.24 1766.77 1333.07 Q1766.04 1332.89 1765.15 1332.89 Q1761.99 1332.89 1760.29 1334.96 Q1758.61 1337 1758.61 1340.85 L1758.61 1352.8 L1754.86 1352.8 L1754.86 1330.12 L1758.61 1330.12 L1758.61 1333.64 Q1759.78 1331.58 1761.67 1330.58 Q1763.55 1329.57 1766.24 1329.57 Q1766.63 1329.57 1767.09 1329.63 Q1767.56 1329.67 1768.13 1329.77 L1768.15 1333.6 Z\" fill=\"#000000\" fill-rule=\"nonzero\" fill-opacity=\"1\" /><path clip-path=\"url(#clip720)\" d=\"M1772.06 1330.12 L1775.78 1330.12 L1775.78 1352.8 L1772.06 1352.8 L1772.06 1330.12 M1772.06 1321.29 L1775.78 1321.29 L1775.78 1326.01 L1772.06 1326.01 L1772.06 1321.29 Z\" fill=\"#000000\" fill-rule=\"nonzero\" fill-opacity=\"1\" /><path clip-path=\"url(#clip720)\" d=\"M1798.04 1330.79 L1798.04 1334.31 Q1796.46 1333.5 1794.76 1333.1 Q1793.06 1332.69 1791.24 1332.69 Q1788.46 1332.69 1787.06 1333.54 Q1785.69 1334.39 1785.69 1336.09 Q1785.69 1337.39 1786.68 1338.14 Q1787.67 1338.87 1790.67 1339.54 L1791.95 1339.82 Q1795.92 1340.67 1797.58 1342.23 Q1799.26 1343.77 1799.26 1346.54 Q1799.26 1349.7 1796.75 1351.55 Q1794.26 1353.39 1789.88 1353.39 Q1788.06 1353.39 1786.07 1353.03 Q1784.11 1352.68 1781.92 1351.97 L1781.92 1348.12 Q1783.99 1349.2 1785.99 1349.74 Q1788 1350.27 1789.96 1350.27 Q1792.59 1350.27 1794.01 1349.38 Q1795.43 1348.47 1795.43 1346.83 Q1795.43 1345.31 1794.4 1344.5 Q1793.38 1343.69 1789.92 1342.94 L1788.62 1342.64 Q1785.16 1341.91 1783.62 1340.41 Q1782.08 1338.89 1782.08 1336.25 Q1782.08 1333.05 1784.35 1331.31 Q1786.62 1329.57 1790.79 1329.57 Q1792.86 1329.57 1794.68 1329.87 Q1796.5 1330.18 1798.04 1330.79 Z\" fill=\"#000000\" fill-rule=\"nonzero\" fill-opacity=\"1\" /><path clip-path=\"url(#clip720)\" d=\"M1808.88 1323.68 L1808.88 1330.12 L1816.56 1330.12 L1816.56 1333.01 L1808.88 1333.01 L1808.88 1345.33 Q1808.88 1348.1 1809.63 1348.89 Q1810.4 1349.68 1812.73 1349.68 L1816.56 1349.68 L1816.56 1352.8 L1812.73 1352.8 Q1808.41 1352.8 1806.77 1351.2 Q1805.13 1349.58 1805.13 1345.33 L1805.13 1333.01 L1802.4 1333.01 L1802.4 1330.12 L1805.13 1330.12 L1805.13 1323.68 L1808.88 1323.68 Z\" fill=\"#000000\" fill-rule=\"nonzero\" fill-opacity=\"1\" /><path clip-path=\"url(#clip720)\" d=\"M1821.46 1330.12 L1825.18 1330.12 L1825.18 1352.8 L1821.46 1352.8 L1821.46 1330.12 M1821.46 1321.29 L1825.18 1321.29 L1825.18 1326.01 L1821.46 1326.01 L1821.46 1321.29 Z\" fill=\"#000000\" fill-rule=\"nonzero\" fill-opacity=\"1\" /><path clip-path=\"url(#clip720)\" d=\"M1851.84 1339.11 L1851.84 1352.8 L1848.11 1352.8 L1848.11 1339.23 Q1848.11 1336.01 1846.86 1334.41 Q1845.6 1332.81 1843.09 1332.81 Q1840.07 1332.81 1838.33 1334.74 Q1836.59 1336.66 1836.59 1339.98 L1836.59 1352.8 L1832.84 1352.8 L1832.84 1330.12 L1836.59 1330.12 L1836.59 1333.64 Q1837.92 1331.6 1839.73 1330.58 Q1841.55 1329.57 1843.92 1329.57 Q1847.83 1329.57 1849.83 1332 Q1851.84 1334.41 1851.84 1339.11 Z\" fill=\"#000000\" fill-rule=\"nonzero\" fill-opacity=\"1\" /><path clip-path=\"url(#clip720)\" d=\"M1878.68 1340.53 L1878.68 1342.35 L1861.54 1342.35 Q1861.78 1346.2 1863.85 1348.23 Q1865.94 1350.23 1869.64 1350.23 Q1871.79 1350.23 1873.79 1349.7 Q1875.82 1349.18 1877.81 1348.12 L1877.81 1351.65 Q1875.8 1352.5 1873.69 1352.94 Q1871.59 1353.39 1869.42 1353.39 Q1863.99 1353.39 1860.81 1350.23 Q1857.65 1347.07 1857.65 1341.68 Q1857.65 1336.11 1860.65 1332.85 Q1863.67 1329.57 1868.77 1329.57 Q1873.35 1329.57 1876 1332.53 Q1878.68 1335.46 1878.68 1340.53 M1874.95 1339.43 Q1874.91 1336.38 1873.23 1334.55 Q1871.57 1332.73 1868.81 1332.73 Q1865.69 1332.73 1863.81 1334.49 Q1861.95 1336.25 1861.66 1339.46 L1874.95 1339.43 Z\" fill=\"#000000\" fill-rule=\"nonzero\" fill-opacity=\"1\" /><path clip-path=\"url(#clip720)\" d=\"M1902.23 1338.36 L1902.23 1349.44 L1908.79 1349.44 Q1912.1 1349.44 1913.68 1348.08 Q1915.28 1346.71 1915.28 1343.89 Q1915.28 1341.06 1913.68 1339.72 Q1912.1 1338.36 1908.79 1338.36 L1902.23 1338.36 M1902.23 1325.93 L1902.23 1335.04 L1908.29 1335.04 Q1911.29 1335.04 1912.74 1333.93 Q1914.22 1332.79 1914.22 1330.48 Q1914.22 1328.19 1912.74 1327.06 Q1911.29 1325.93 1908.29 1325.93 L1902.23 1325.93 M1898.14 1322.56 L1908.59 1322.56 Q1913.27 1322.56 1915.8 1324.51 Q1918.33 1326.45 1918.33 1330.04 Q1918.33 1332.81 1917.04 1334.45 Q1915.74 1336.09 1913.23 1336.5 Q1916.25 1337.15 1917.91 1339.21 Q1919.59 1341.26 1919.59 1344.34 Q1919.59 1348.39 1916.84 1350.6 Q1914.08 1352.8 1909 1352.8 L1898.14 1352.8 L1898.14 1322.56 Z\" fill=\"#000000\" fill-rule=\"nonzero\" fill-opacity=\"1\" /><path clip-path=\"url(#clip720)\" d=\"M1939.58 1333.6 Q1938.95 1333.24 1938.2 1333.07 Q1937.47 1332.89 1936.58 1332.89 Q1933.42 1332.89 1931.72 1334.96 Q1930.04 1337 1930.04 1340.85 L1930.04 1352.8 L1926.29 1352.8 L1926.29 1330.12 L1930.04 1330.12 L1930.04 1333.64 Q1931.22 1331.58 1933.1 1330.58 Q1934.98 1329.57 1937.68 1329.57 Q1938.06 1329.57 1938.53 1329.63 Q1938.99 1329.67 1939.56 1329.77 L1939.58 1333.6 Z\" fill=\"#000000\" fill-rule=\"nonzero\" fill-opacity=\"1\" /><path clip-path=\"url(#clip720)\" d=\"M1951.37 1332.73 Q1948.37 1332.73 1946.63 1335.08 Q1944.89 1337.41 1944.89 1341.48 Q1944.89 1345.55 1946.61 1347.9 Q1948.35 1350.23 1951.37 1350.23 Q1954.35 1350.23 1956.09 1347.88 Q1957.83 1345.53 1957.83 1341.48 Q1957.83 1337.45 1956.09 1335.1 Q1954.35 1332.73 1951.37 1332.73 M1951.37 1329.57 Q1956.23 1329.57 1959.01 1332.73 Q1961.78 1335.89 1961.78 1341.48 Q1961.78 1347.05 1959.01 1350.23 Q1956.23 1353.39 1951.37 1353.39 Q1946.49 1353.39 1943.71 1350.23 Q1940.96 1347.05 1940.96 1341.48 Q1940.96 1335.89 1943.71 1332.73 Q1946.49 1329.57 1951.37 1329.57 Z\" fill=\"#000000\" fill-rule=\"nonzero\" fill-opacity=\"1\" /><path clip-path=\"url(#clip720)\" d=\"M1976.75 1332.73 Q1973.75 1332.73 1972.01 1335.08 Q1970.27 1337.41 1970.27 1341.48 Q1970.27 1345.55 1971.99 1347.9 Q1973.73 1350.23 1976.75 1350.23 Q1979.73 1350.23 1981.47 1347.88 Q1983.21 1345.53 1983.21 1341.48 Q1983.21 1337.45 1981.47 1335.1 Q1979.73 1332.73 1976.75 1332.73 M1976.75 1329.57 Q1981.61 1329.57 1984.38 1332.73 Q1987.16 1335.89 1987.16 1341.48 Q1987.16 1347.05 1984.38 1350.23 Q1981.61 1353.39 1976.75 1353.39 Q1971.87 1353.39 1969.09 1350.23 Q1966.34 1347.05 1966.34 1341.48 Q1966.34 1335.89 1969.09 1332.73 Q1971.87 1329.57 1976.75 1329.57 Z\" fill=\"#000000\" fill-rule=\"nonzero\" fill-opacity=\"1\" /><path clip-path=\"url(#clip720)\" d=\"M1993.2 1321.29 L1996.94 1321.29 L1996.94 1339.9 L2008.06 1330.12 L2012.82 1330.12 L2000.79 1340.73 L2013.33 1352.8 L2008.47 1352.8 L1996.94 1341.72 L1996.94 1352.8 L1993.2 1352.8 L1993.2 1321.29 Z\" fill=\"#000000\" fill-rule=\"nonzero\" fill-opacity=\"1\" /></svg>\n"
            ]
          },
          "metadata": {},
          "output_type": "display_data"
        }
      ],
      "source": [
        "A = [0 1 1 1;\n",
        "    0 0 0 1;\n",
        "    0 0 0 1;\n",
        "    0 0 0 0]\n",
        "\n",
        "names = [\"Plant\", \"Land Treatment\", \"Chem Treatment\", \"Pristine Brook\"]\n",
        "# modify this dictionary to add labels\n",
        "edge_labels = Dict((1, 2) => \"X1\", (1,3) => \"X2\", (1, 4) => \"100-X1-X2\",(2, 4) => \"0.2X1\",(3, 4) => \"0.005X2^2\")\n",
        "shapes=[:hexagon, :rect, :rect, :hexagon]\n",
        "xpos = [0, -1.5, -0.25, 1]\n",
        "ypos = [1, 0, 0, -1]\n",
        "\n",
        "p = graphplot(A, names=names,edgelabel=edge_labels, markersize=0.15, markershapes=shapes, markercolor=:white, x=xpos, y=ypos)\n",
        "display(p)"
      ]
    },
    {
      "cell_type": "code",
      "execution_count": 78,
      "id": "e36c4647",
      "metadata": {},
      "outputs": [
        {
          "data": {
            "text/plain": [
              "yuk_cost (generic function with 1 method)"
            ]
          },
          "metadata": {},
          "output_type": "display_data"
        }
      ],
      "source": [
        "# conc of yuk in pristine brook is a combination of the yuk in third stream (whatever doesn't go through land/chem treatment),\n",
        "# yuk that seeps back from land, and remainder of yuk that couldn't be treated with chem \n",
        "function yuk_concentration(X1,X2)\n",
        "    # mathematical model for amount of YUK discharged into pristine brook\n",
        "    yuk_into_brook = 100 .- X1 .- X2 .+ 0.2X1 .+ 0.005X2\n",
        "    return yuk_into_brook\n",
        "end\n",
        "\n",
        "function yuk_cost(X1,X2)\n",
        "    cost = X1.^2/20 .+ 1.5*X2\n",
        "    return cost\n",
        "end\n",
        "\n",
        "# different combinations of wastewater discharge flow\n",
        "wastewater_flow = 100 #m^3/day\n",
        "q1 = rand()\n",
        "\n",
        "# plot results of experiments\n",
        "scatter()\n"
      ]
    },
    {
      "cell_type": "markdown",
      "id": "35a80f6a-0862-4469-bd1d-e57f3e7762d3",
      "metadata": {},
      "source": [
        "**In this problem**:\n",
        "\n",
        "-   Formulate a mathematical model for the treatment cost and the amount\n",
        "    of YUK that will be discharged into Pristine Brook based on the\n",
        "    wastewater allocations. This is best done with some equations and\n",
        "    supporting text explaining the derivation. Make sure you include, as\n",
        "    additional equations in the model, any needed constraints on\n",
        "    relevant values. You can find some basics on writing mathematical\n",
        "    equations using the LaTeX typesetting syntax\n",
        "    [here](https://viveks.me/environmental-systems-analysis/tutorials/latex-notebook.qmd),\n",
        "    and a cheatsheet with LaTeX commands can be found on the course\n",
        "    website’s [Resources\n",
        "    page](https://viveks.me/environmental-systems-analysis/resources/markdown.qmd).\n",
        "\n",
        "-   Implement your systems model as a Julia function which computes the\n",
        "    resulting YUK concentration and cost for a particular treatment\n",
        "    plan. You can return multiple values from a function with a\n",
        "    [tuple](https://docs.julialang.org/en/v1/manual/functions/#Tuples-1),\n",
        "    as in:\n",
        "\n",
        "    ``` {julia}\n",
        "    function multiple_return_values(x, y)\n",
        "        return (x+y, x*y)\n",
        "    end\n",
        "\n",
        "    a, b = multiple_return_values(2, 5)\n",
        "    @show a;\n",
        "    @show b;\n",
        "    ```\n",
        "\n",
        "    To evalute the function over vectors of inputs, you can *broadcast*\n",
        "    the function by adding a decimal `.` before the function arguments\n",
        "    and accessing the resulting values by writing a *comprehension* to\n",
        "    loop over the individual outputs in the vector:\n",
        "\n",
        "    ``` {julia}\n",
        "    x = [1, 2, 3, 4, 5]\n",
        "    y = [6, 7, 8, 9, 10]\n",
        "\n",
        "    output = multiple_return_values.(x, y)\n",
        "    a = [out[1] for out in output]\n",
        "    b = [out[2] for out in output]\n",
        "    @show a;\n",
        "    @show b;\n",
        "    ```\n",
        "\n",
        "    Make sure you comment your code appropriately to make it clear what\n",
        "    is going on and why.\n",
        "\n",
        "-   Use your function to experiment with some different combinations of\n",
        "    wastewater discharge and treatment and plot the results of these\n",
        "    experiments. Can you find one that satisfies the YUK effluent\n",
        "    standard (plot this as well as a dashed red line)? What was the\n",
        "    cost? What can you say about the tradeoff between treatment cost and\n",
        "    YUK concentration? You don’t have to find an “optimal” solution to\n",
        "    this problem, but what do you think would be needed to find a better\n",
        "    solution?\n",
        "\n",
        "### Problem 5 (10 points)\n",
        "\n",
        "**This problem is only required for students in BEE 5750**."
      ]
    },
    {
      "cell_type": "markdown",
      "id": "c860071d-9605-44fd-9824-08feaa19071c",
      "metadata": {},
      "source": [
        "#### Problem 5.1\n",
        "\n",
        "Using a\n",
        "[comprehension](https://viveks.me/environmental-systems-analysis/tutorials/julia-basics.html#comprehensions),\n",
        "count the number of odd numbers between 0 and 149."
      ]
    },
    {
      "cell_type": "markdown",
      "id": "bbad418b-b1e1-4bc1-9236-4dc7d5e0a6bb",
      "metadata": {},
      "source": [
        "> **Hint**\n",
        ">\n",
        "> `iseven()` returns `true` for even numbers and `false` for odd\n",
        "> numbers."
      ]
    },
    {
      "cell_type": "markdown",
      "id": "ab678985-748c-45a4-9154-8fd5765df1ce",
      "metadata": {},
      "source": [
        "#### Problem 5.2\n",
        "\n",
        "Write a function `polynomial(x, a)` which calculates the polynomial\n",
        "$$p(x) = \\sum_{i=1}^n a_i x^i$$\n",
        "\n",
        "based on a point `x` and a coefficient vector `a` of length `n` using a\n",
        "loop. Test your function by computing $$p(x) = 2x^3 - x^2 + 1$$ at\n",
        "$x=2$."
      ]
    },
    {
      "cell_type": "markdown",
      "id": "47b1b47a-d0c6-4812-b7a5-fbecebddd3f9",
      "metadata": {},
      "source": [
        "## References\n",
        "\n",
        "List any external references consulted, including classmates."
      ]
    }
  ],
  "metadata": {
    "kernel_info": {
      "name": "julia"
    },
    "kernelspec": {
      "display_name": "Julia 1.10.5",
      "language": "julia",
      "name": "julia-1.10"
    },
    "language_info": {
      "file_extension": ".jl",
      "mimetype": "application/julia",
      "name": "julia",
      "version": "1.10.5"
    }
  },
  "nbformat": 4,
  "nbformat_minor": 5
}
